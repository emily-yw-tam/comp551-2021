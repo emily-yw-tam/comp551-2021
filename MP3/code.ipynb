{
  "nbformat": 4,
  "nbformat_minor": 0,
  "metadata": {
    "colab": {
      "name": "551MP3-3-1.ipynb",
      "provenance": [],
      "collapsed_sections": []
    },
    "kernelspec": {
      "display_name": "Python 3",
      "language": "python",
      "name": "python3"
    },
    "language_info": {
      "codemirror_mode": {
        "name": "ipython",
        "version": 3
      },
      "file_extension": ".py",
      "mimetype": "text/x-python",
      "name": "python",
      "nbconvert_exporter": "python",
      "pygments_lexer": "ipython3",
      "version": "3.7.4"
    }
  },
  "cells": [
    {
      "cell_type": "markdown",
      "metadata": {
        "id": "LzeAHmuLj9uJ"
      },
      "source": [
        "# COMP 551 - Mini Project 3 (Group 60)\n",
        "**In this miniproject, you will implement a multilayer perceptron from scratch, and use it to classify image data. The goal is to implement a basic neural network and its training algorithm from scratch and get hands-on experience with important decisions that you have to make while training these models.**"
      ]
    },
    {
      "cell_type": "code",
      "metadata": {
        "id": "hFpZPxmpkH2O"
      },
      "source": [
        "import numpy as np\n",
        "import string\n",
        "import pandas as pd # use Pandas to preprocess the data\n",
        "\n",
        "# tensorflow\n",
        "import tensorflow as tf\n",
        "\n",
        "# the output of plotting commands is displayed inline within frontends\n",
        "%matplotlib inline                                  \n",
        "import matplotlib.pyplot as plt\n",
        "from IPython.core.debugger import set_trace # for debugging\n",
        "\n",
        "import random\n",
        "\n",
        "# set the seed for reproducibility\n",
        "np.random.seed(1234)"
      ],
      "execution_count": null,
      "outputs": []
    },
    {
      "cell_type": "markdown",
      "metadata": {
        "id": "uTMRvUXYkRZ0"
      },
      "source": [
        "## Task 1: Acquire the data\n",
        "Your ﬁrst task is to acquire the image dataset. You will be using only one dataset in your experiments: MNIST. Use the MNIST dataset with the default train and test partitions.\n",
        "Since you will be working with multilayer perceptrons, after loading the data, you will have to vectorize it so that it can have the appropriate dimensions."
      ]
    },
    {
      "cell_type": "code",
      "metadata": {
        "colab": {
          "base_uri": "https://localhost:8080/",
          "height": 435
        },
        "id": "qUSRt1aqkbjh",
        "outputId": "397721ad-f5c3-446b-de6f-b608eb28241f"
      },
      "source": [
        "# load data using tensorflow\n",
        "(MNIST_x_train, MNIST_y_train), (MNIST_x_test, MNIST_y_test) = tf.keras.datasets.mnist.load_data()\n",
        "print(\"Each image is {}x{} pixels\".format(int(MNIST_x_train.shape[1]), int(MNIST_x_train.shape[2])))\n",
        "print(\"Number of training data:\", len(MNIST_x_train))\n",
        "print(\"Number of testing data:\", len(MNIST_x_test))\n",
        "print()\n",
        "MNIST_y_train_original = MNIST_y_train\n",
        "\n",
        "# Convert train y from N to (N x C) \n",
        "new_y = np.zeros((MNIST_y_train.shape[0], np.max(MNIST_y_train)+1))\n",
        "for i in range(MNIST_y_train.shape[0]):\n",
        "    new_y[i][MNIST_y_train[i]] = 1\n",
        "MNIST_y_train = new_y\n",
        "\n",
        "# data example:\n",
        "print(\"Example data: \", MNIST_y_train_original[0])\n",
        "plt.imshow(MNIST_x_train[0, :, :])\n",
        "plt.colorbar()\n",
        "plt.show()\n",
        "print()\n",
        "\n",
        "# vectorize data to 2D: # of data x image pixels\n",
        "MNIST_x_train_vec_unnormalized = MNIST_x_train.reshape(MNIST_x_train.shape[0], MNIST_x_train.shape[1] * MNIST_x_train.shape[2]).astype('float64')\n",
        "MNIST_x_test_vec_unnormalized = MNIST_x_test.reshape(MNIST_x_test.shape[0], MNIST_x_test.shape[1] * MNIST_x_test.shape[2]).astype('float64')\n",
        "print(\"Training data shape:\", MNIST_x_train_vec_unnormalized.shape)\n",
        "print(\"Testing data shape:\", MNIST_x_test_vec_unnormalized.shape)\n",
        "\n",
        "MNIST_x_train_vec = np.copy(MNIST_x_train_vec_unnormalized)\n",
        "MNIST_x_test_vec = np.copy(MNIST_x_test_vec_unnormalized)\n",
        "\n",
        "# Noramalization: mean subtraction and normalize by standard deviation\n",
        "MNIST_x_train_vec -= np.mean(MNIST_x_train_vec_unnormalized)\n",
        "MNIST_x_test_vec -= np.mean(MNIST_x_test_vec_unnormalized)\n",
        "\n",
        "MNIST_x_train_vec /= np.std(MNIST_x_train_vec)\n",
        "MNIST_x_test_vec /= np.std(MNIST_x_test_vec)"
      ],
      "execution_count": null,
      "outputs": [
        {
          "output_type": "stream",
          "text": [
            "Downloading data from https://storage.googleapis.com/tensorflow/tf-keras-datasets/mnist.npz\n",
            "11493376/11490434 [==============================] - 0s 0us/step\n",
            "Each image is 28x28 pixels\n",
            "Number of training data: 60000\n",
            "Number of testing data: 10000\n",
            "\n",
            "Example data:  5\n"
          ],
          "name": "stdout"
        },
        {
          "output_type": "display_data",
          "data": {
            "image/png": "[encoded data removed]",
            "text/plain": [
              "<Figure size 432x288 with 2 Axes>"
            ]
          },
          "metadata": {
            "tags": []
          }
        },
        {
          "output_type": "stream",
          "text": [
            "\n",
            "Training data shape: (60000, 784)\n",
            "Testing data shape: (10000, 784)\n"
          ],
          "name": "stdout"
        }
      ]
    },
    {
      "cell_type": "markdown",
      "metadata": {
        "id": "qgyVJrBOkb2S"
      },
      "source": [
        "## Task 2: Implement a Multilayer Perceptron\n",
        "In this mini-project, you will implement a multilayer perceptron (MLP) to classify image data. Your implementation should include the backpropagation and the mini-batch gradient descent algorithm (e.g. SGD).\n",
        "\n",
        "Regarding the implementation, we recommend the following approach:\n",
        "- Implement the MLP as a python class. The constructor for the class should take as input the activation function (e.g. ReLU), the number of hidden layers (e.g. 2) and the number of units in the hidden layers (e.g. [64; 64]) and it should initialize the weights and biases (with an initializer of your choice) as well as other important properties of the MLP.\n",
        "- The class should have (at least) two functions:\n",
        "  - A fit function, which takes the training data (i.e. X and y) - as well as other hyperparameters (e.g. the learning rate and number of gradient descent iterations) - as input. This function should train your model by modifying the model parameters.\n",
        "  - A predict function, which takes a set of input points (i.e. X) as input and outputs predictions (i.e. yh) for these points.\n",
        "- In addition to the model classes, you should also define a function evaluate acc to evaluate the model accuracy. This function should take the true labels (i.e. y), and target labels (i.e. yh) as input, and it should output the accuracy score."
      ]
    },
    {
      "cell_type": "markdown",
      "metadata": {
        "id": "G1T5caOzklPL"
      },
      "source": [
        "**Evaluate accuracy function:**"
      ]
    },
    {
      "cell_type": "code",
      "metadata": {
        "id": "0hVvFX3Xkkrz"
      },
      "source": [
        "# this function will take the true labels (i.e. ground truth), and target labels (i.e. predictions) as input, and output the accuracy score\n",
        "def evaluate_acc(trueLabel, targetLabel):\n",
        "    accuracy = np.sum(targetLabel == trueLabel)/trueLabel.shape[0] # calculate the accuracy\n",
        "    return accuracy"
      ],
      "execution_count": null,
      "outputs": []
    },
    {
      "cell_type": "code",
      "metadata": {
        "id": "JIO9fs9vF-iU"
      },
      "source": [
        "def logistic(z, derivative=False):\n",
        "    if(derivative == True):\n",
        "        f = 1./ (1 + np.exp(-z))\n",
        "        return f * (1-f)\n",
        "    else:\n",
        "        return 1./ (1 + np.exp(-z))\n",
        "\n",
        "def relu(z, derivative=False):\n",
        "    if(derivative == True):\n",
        "        return 1. * (z > 0)\n",
        "    else:\n",
        "        return np.maximum(z, 0.0) \n",
        "\n",
        "def tanh(z, derivative=False):\n",
        "    if(derivative == True):\n",
        "        return 1-(np.exp(z)-np.exp(-z))/(np.exp(z)+np.exp(-z))**2\n",
        "    else:\n",
        "        return (np.exp(z)-np.exp(-z))/(np.exp(z)+np.exp(-z))\n",
        "\n",
        "def softmax(z):\n",
        "    exp_z = np.exp(z - np.max(z))\n",
        "    return exp_z / np.sum(exp_z, axis=1, keepdims=True)"
      ],
      "execution_count": null,
      "outputs": []
    },
    {
      "cell_type": "code",
      "metadata": {
        "id": "gIn1jEtukuta"
      },
      "source": [
        "class GradientDescent:\n",
        "    \n",
        "    def __init__(self, learning_rate=.001, max_iters=1e4, epsilon=1e-8):\n",
        "        self.learning_rate = learning_rate\n",
        "        self.max_iters = max_iters\n",
        "        self.epsilon = epsilon\n",
        "        \n",
        "    def run(self, gradient_fn, x, y, params):\n",
        "        norms = np.array([np.inf])\n",
        "        t = 1\n",
        "        while np.any(norms > self.epsilon) and t < self.max_iters:\n",
        "            grad = gradient_fn(x, y, params)\n",
        "            for p in range(len(params)):\n",
        "                params[p] -= self.learning_rate * grad[p]\n",
        "            t += 1\n",
        "            norms = np.array([np.linalg.norm(g) for g in grad])\n",
        "        return params\n",
        "\n",
        "from sklearn.utils import shuffle\n",
        "import copy\n",
        "class MBSGD: \n",
        "    def __init__(self, learning_rate=.001, max_iters=1e4, epsilon=1e-8, batch_size=100, verbose=False, record_history=False):\n",
        "        self.learning_rate = learning_rate\n",
        "        self.max_iters = max_iters\n",
        "        self.epsilon = epsilon\n",
        "        self.batch_size = batch_size\n",
        "        self.verbose = verbose\n",
        "        self.record_history = record_history\n",
        "        if record_history:\n",
        "            self.record_params = []\n",
        "            self.record_iters = []\n",
        "        \n",
        "    def get_minibatches(self, x, y, batch_size):\n",
        "        minibatches = []\n",
        "        x, y = shuffle(x,y)\n",
        "        for i in range(0, x.shape[0], batch_size):\n",
        "            x_batch = x[i:i+batch_size]\n",
        "            y_batch = y[i:i+batch_size]\n",
        "            minibatches.append((x_batch, y_batch))\n",
        "        return minibatches\n",
        "\n",
        "    def run(self, gradient_fn, x, y, params):\n",
        "        minibatches = self.get_minibatches(x,y,self.batch_size)\n",
        "        norms = np.array([np.inf])\n",
        "        t = 1\n",
        "        i = 0\n",
        "        iters = [1, 10, 100, 1000, 10000, 20000, 40000, 60000, 80000, 100000, 200000, 400000, 600000, 800000, 1000000]\n",
        "        \n",
        "        while np.any(norms > self.epsilon) and t < self.max_iters:\n",
        "            curr_x, curr_y = minibatches[i]\n",
        "            grad = gradient_fn(curr_x, curr_y, params)\n",
        "            \n",
        "            for p in range(len(params)):\n",
        "                params[p] -= self.learning_rate * grad[p]\n",
        "\n",
        "            t += 1\n",
        "            i += 1\n",
        "            norms = np.array([np.linalg.norm(g) for g in grad])\n",
        "            \n",
        "            # finished epoch when i == len(minibatches)\n",
        "            # shuffle minibatches again so that you always have different minibatches\n",
        "            if (i == len(minibatches)):\n",
        "                i = 0\n",
        "                minibatches = self.get_minibatches(x,y,self.batch_size)\n",
        "            \n",
        "            # len(minibatches) = number of training samples/batch_size = 60000/100 = 600\n",
        "            # 1 epoch = 600 iterations\n",
        "            # max_iters = 1000000 iterations\n",
        "            # max_iters/iterations per epoch = 1000000/600 = 1666 epochs\n",
        "            # 20 data points\n",
        "\n",
        "            if (t in iters) and self.record_history:\n",
        "                copy_params = copy.deepcopy(params)\n",
        "                self.record_params.append(copy_params)\n",
        "                self.record_iters.append(t)\n",
        "\n",
        "            if (t % (self.max_iters/10) == 0) and self.verbose:\n",
        "                print(\"iteration:\", t)\n",
        "          \n",
        "        return params"
      ],
      "execution_count": null,
      "outputs": []
    },
    {
      "cell_type": "code",
      "metadata": {
        "id": "sMmJZoMnCxff"
      },
      "source": [
        "class MLP:\n",
        "\n",
        "    def __init__(self, activation_fn=relu, layers=2, M=[128,128], l2_reg=0):\n",
        "        self.activation_fn = activation_fn\n",
        "        self.layers=layers\n",
        "        self.M = M # units in hidden layers\n",
        "        self.l2_reg=l2_reg\n",
        "\n",
        "    # x: N x D, y: N x C\n",
        "    def gradient(self, x, y , params):\n",
        "        if self.layers == 0:\n",
        "            w = params[0]\n",
        "            N, D = x.shape\n",
        "            yh = softmax(np.dot(x, w)) #N x C\n",
        "            dy = yh - y #N x C\n",
        "            dw = np.dot(x.T, dy)/N\n",
        "            dw += self.l2_reg*w # L2 regularization\n",
        "            dparams = [dw]\n",
        "            return dparams\n",
        "\n",
        "        elif self.layers == 1:\n",
        "            v1, w = params\n",
        "            z = self.activation_fn(np.dot(x, v1)) #N x M\n",
        "            _dz = self.activation_fn(np.dot(x, v1), derivative=True)\n",
        "            N, D = x.shape\n",
        "            yh = softmax(np.dot(z, w))#N x C\n",
        "            dy = yh - y #N x C\n",
        "            dw = np.dot(z.T, dy)/N #M X C\n",
        "            dz = np.dot(dy, w.T) #N x M\n",
        "            dv1 = np.dot(x.T, dz * _dz)/N #D x M\n",
        "\n",
        "            dv1 += self.l2_reg*v1 # L2 regularization\n",
        "            dw += self.l2_reg*w # L2 regularization\n",
        "\n",
        "            dparams = [dv1, dw]\n",
        "            return dparams\n",
        "\n",
        "        elif self.layers == 2:\n",
        "            v1, v2, w = params\n",
        "            N, D = x.shape\n",
        "            #feed forward\n",
        "            #input to first hidden layer\n",
        "            z1 = self.activation_fn(np.dot(x, v1)) #N x M\n",
        "            _dz1 = self.activation_fn(np.dot(x, v1), derivative=True)\n",
        "            #first to second hidden layer\n",
        "            z2 = self.activation_fn(np.dot(z1, v2)) #M x M\n",
        "            _dz2 = self.activation_fn(np.dot(z1, v2), derivative=True)\n",
        "            #second hidden layer to output \n",
        "            yh = softmax(np.dot(z2, w))#N x C\n",
        "          \n",
        "            dy = yh - y #N x C, y-error\n",
        "            dw = np.dot(z2.T, dy)/N #M X M\n",
        "\n",
        "            dz2 = np.dot(dy, w.T) #M x M\n",
        "            dv2 = np.dot(z1.T, dz2 * _dz2)/N #M x M\n",
        "\n",
        "            dz1 = np.dot(dz2, v2.T) #M x M\n",
        "            dv1 = np.dot(x.T, dz1 * _dz1)/N #D x M\n",
        "\n",
        "            dv1 += self.l2_reg*v1 # L2 regularization\n",
        "            dv2 += self.l2_reg*v2 # L2 regularization\n",
        "            dw += self.l2_reg*w # L2 regularization\n",
        "\n",
        "            dparams = [dv1, dv2, dw]\n",
        "            return dparams\n",
        "\n",
        "    def fit(self, x, y, optimizer):\n",
        "        N = x.shape[0]\n",
        "        x = np.column_stack([np.ones(N),x])\n",
        "\n",
        "        N, D = x.shape\n",
        "        self.C = 10\n",
        "\n",
        "        if self.layers == 0:\n",
        "            w = np.random.randn(D, self.C) * .01\n",
        "            params0 = [w]\n",
        "        elif self.layers == 1:\n",
        "            v1 = np.random.randn(D,self.M[0]) * .01\n",
        "            w = np.random.randn(self.M[0], self.C) * .01\n",
        "            params0 = [v1,w]\n",
        "        elif self.layers == 2:\n",
        "            v1 = np.random.randn(D,self.M[0]) * .01\n",
        "            v2 = np.random.randn(self.M[0], self.M[1]) * .01\n",
        "            w = np.random.randn(self.M[1], self.C) * .01\n",
        "            params0 = [v1, v2, w] \n",
        "\n",
        "        self.params = optimizer.run(self.gradient, x, y, params0)\n",
        "        return self\n",
        "    \n",
        "    def predict(self, x):\n",
        "        N = x.shape[0]\n",
        "        x = np.column_stack([np.ones(N),x])\n",
        "\n",
        "        if self.layers == 0:\n",
        "            w = self.params[0]\n",
        "            yh = softmax(np.dot(x, w)) #N X C\n",
        "\n",
        "        elif self.layers == 1:\n",
        "            v1, w = self.params\n",
        "            z = self.activation_fn(np.dot(x, v1)) #N x M\n",
        "            yh = softmax(np.dot(z, w)) #N X C\n",
        "\n",
        "        elif self.layers == 2:\n",
        "            v1, v2, w = self.params\n",
        "            z1 = self.activation_fn(np.dot(x, v1)) #N x M\n",
        "            z2 = self.activation_fn(np.dot(z1, v2)) #M x M\n",
        "            yh = softmax(np.dot(z2, w))\n",
        "\n",
        "        return yh \n",
        "\n",
        "    # predict with parameters\n",
        "    def predict_wp(self, x, parameters):\n",
        "        N = x.shape[0]\n",
        "        x = np.column_stack([np.ones(N),x])\n",
        "\n",
        "        if self.layers == 0:\n",
        "            w = parameters[0]\n",
        "            yh = softmax(np.dot(x, w)) #N X C\n",
        "\n",
        "        elif self.layers == 1:\n",
        "            v1, w = parameters\n",
        "            z = self.activation_fn(np.dot(x, v1)) #N x M\n",
        "            yh = softmax(np.dot(z, w)) #N X C\n",
        "\n",
        "        elif self.layers == 2:\n",
        "            v1, v2, w = parameters\n",
        "            z1 = self.activation_fn(np.dot(x, v1)) #N x M\n",
        "            z2 = self.activation_fn(np.dot(z1, v2)) #M x M\n",
        "            yh = softmax(np.dot(z2, w))\n",
        "\n",
        "        return yh "
      ],
      "execution_count": null,
      "outputs": []
    },
    {
      "cell_type": "markdown",
      "metadata": {
        "id": "Po9qb_THkvIu"
      },
      "source": [
        "## Task 3: Run the experiments\n",
        "The goal of the experiments in this part is to have you explore the consequences of important decisions made while training neural networks. Split the dataset into training and test sets. Use test set to estimate performance in all of the experiments after training the model with training set. Evaluate the performance using accuracy. You are welcome to perform any experiments and analyses you see fit (e.g. the effect of data augmentation / dropout / number of hidden layers / ... on accuracy).\n",
        "\n",
        "You can report your findings either in the form of a table or a plot in the write-up. However, include in your colab notebooks the plots of the test and train performance of the MLPs as a function of training epochs. This will allow you to see how much the network should be trained before it starts to overfit to the training data."
      ]
    },
    {
      "cell_type": "markdown",
      "metadata": {
        "id": "UFASwI6DlC6U"
      },
      "source": [
        "### Task 3.1:\n",
        "First of all, create three different models: (1) an MLP with no hidden layers, i.e. it directly maps the inputs to outputs, (2) an MLP with a single hidden layer having 128 units and ReLU activations, (3) an MLP with 2 hidden layers each having 128 units with ReLU activations. It should be noted that since we want to perform classification, all of these models should have a softmax layer at the end. After training, compare the test accuracy of these three models on the MNIST dataset. Comment on how non-linearity and network depth effects the accuracy. Are the results that you obtain expected?"
      ]
    },
    {
      "cell_type": "code",
      "metadata": {
        "colab": {
          "base_uri": "https://localhost:8080/"
        },
        "id": "Pzu4JNrasAXm",
        "outputId": "a833fdf6-e804-4bfd-b7f9-224450e4487d"
      },
      "source": [
        "# MLP with no hidden layers\n",
        "optimizer = MBSGD(max_iters=1e6, verbose=True, record_history=True) # train 1e6 overnight\n",
        "model = MLP(layers=0).fit(MNIST_x_train_vec, MNIST_y_train, optimizer) # *\n",
        "params = optimizer.record_params\n",
        "iters = optimizer.record_iters\n",
        "train_accuracy_0 = [] # *\n",
        "test_accuracy_0 = [] # *\n",
        "\n",
        "for i in range(len(params)):\n",
        "    y_train = model.predict_wp(MNIST_x_train_vec, params[i])\n",
        "    y_train = np.argmax(y_train, axis=1)\n",
        "\n",
        "    y_test = model.predict_wp(MNIST_x_test_vec, params[i])\n",
        "    y_test = np.argmax(y_test, axis=1)\n",
        "\n",
        "    y_train_acc = evaluate_acc(y_train, MNIST_y_train_original)\n",
        "    train_accuracy_0.append(y_train_acc) # *\n",
        "\n",
        "    y_test_acc = evaluate_acc(y_test, MNIST_y_test)\n",
        "    test_accuracy_0.append(y_test_acc) # *\n",
        "\n",
        "print(\"train_accuracy_0: \", train_accuracy_0) # *\n",
        "print(\"test_accuracy_0: \", test_accuracy_0) # *"
      ],
      "execution_count": 41,
      "outputs": [
        {
          "output_type": "stream",
          "text": [
            "iteration: 10000\n",
            "iteration: 20000\n",
            "iteration: 30000\n",
            "iteration: 40000\n",
            "iteration: 50000\n",
            "iteration: 60000\n",
            "iteration: 70000\n",
            "iteration: 80000\n",
            "iteration: 90000\n",
            "iteration: 100000\n",
            "train_accuracy_0:  [0.15605, 0.7283833333333334, 0.86115, 0.9037166666666666, 0.9123, 0.91845, 0.9220166666666667, 0.9241166666666667, 0.9255166666666667]\n",
            "test_accuracy_0:  [0.1637, 0.736, 0.8716, 0.909, 0.9151, 0.9192, 0.9203, 0.922, 0.9218]\n"
          ],
          "name": "stdout"
        }
      ]
    },
    {
      "cell_type": "code",
      "metadata": {
        "id": "ISCyZodd__NW",
        "colab": {
          "base_uri": "https://localhost:8080/"
        },
        "outputId": "8108ab4e-59e6-4819-e86e-c2321883a1cf"
      },
      "source": [
        "# MLP with a single hidden layer having 128 units and ReLU activations\n",
        "optimizer = MBSGD(max_iters=1e6, verbose=True, record_history=True) # train 1e6 overnight\n",
        "model = MLP(activation_fn=relu, layers=1, M=[128]).fit(MNIST_x_train_vec, MNIST_y_train, optimizer)\n",
        "params = optimizer.record_params\n",
        "iters = optimizer.record_iters\n",
        "train_accuracy_1 = []\n",
        "test_accuracy_1 = []\n",
        "\n",
        "for i in range(len(params)):\n",
        "    y_train = model.predict_wp(MNIST_x_train_vec, params[i])\n",
        "    y_train = np.argmax(y_train, axis=1)\n",
        "\n",
        "    y_test = model.predict_wp(MNIST_x_test_vec, params[i])\n",
        "    y_test = np.argmax(y_test, axis=1)\n",
        "\n",
        "    y_train_acc = evaluate_acc(y_train, MNIST_y_train_original)\n",
        "    train_accuracy_1.append(y_train_acc)\n",
        "\n",
        "    y_test_acc = evaluate_acc(y_test, MNIST_y_test)\n",
        "    test_accuracy_1.append(y_test_acc)\n",
        "\n",
        "print(\"train_accuracy_1: \", train_accuracy_1)\n",
        "print(\"test_accuracy_1: \", test_accuracy_1)"
      ],
      "execution_count": 42,
      "outputs": [
        {
          "output_type": "stream",
          "text": [
            "iteration: 10000\n",
            "iteration: 20000\n",
            "iteration: 30000\n",
            "iteration: 40000\n",
            "iteration: 50000\n",
            "iteration: 60000\n",
            "iteration: 70000\n",
            "iteration: 80000\n",
            "iteration: 90000\n",
            "iteration: 100000\n",
            "train_accuracy_1:  [0.1381, 0.22613333333333333, 0.6519166666666667, 0.89565, 0.9145833333333333, 0.9351833333333334, 0.9477666666666666, 0.95655, 0.9629]\n",
            "test_accuracy_1:  [0.1417, 0.2244, 0.6516, 0.901, 0.919, 0.9348, 0.9461, 0.9539, 0.9592]\n"
          ],
          "name": "stdout"
        }
      ]
    },
    {
      "cell_type": "code",
      "metadata": {
        "id": "oq7WftEE__X_",
        "colab": {
          "base_uri": "https://localhost:8080/"
        },
        "outputId": "856d663d-820a-49c0-f979-f992c6a4a119"
      },
      "source": [
        "# MLP with 2 hidden layers having each having 128 units and ReLU activations\n",
        "optimizer = MBSGD(max_iters=1e6, verbose=True, record_history=True) # train 1e6 overnight\n",
        "model = MLP(activation_fn=relu, layers=2, M=[128, 128]).fit(MNIST_x_train_vec, MNIST_y_train, optimizer)\n",
        "params = optimizer.record_params\n",
        "iters = optimizer.record_iters\n",
        "train_accuracy_2 = []\n",
        "test_accuracy_2 = []\n",
        "\n",
        "for i in range(len(params)):\n",
        "    y_train = model.predict_wp(MNIST_x_train_vec, params[i])\n",
        "    y_train = np.argmax(y_train, axis=1)\n",
        "\n",
        "    y_test = model.predict_wp(MNIST_x_test_vec, params[i])\n",
        "    y_test = np.argmax(y_test, axis=1)\n",
        "\n",
        "    y_train_acc = evaluate_acc(y_train, MNIST_y_train_original)\n",
        "    train_accuracy_2.append(y_train_acc)\n",
        "\n",
        "    y_test_acc = evaluate_acc(y_test, MNIST_y_test)\n",
        "    test_accuracy_2.append(y_test_acc)\n",
        "\n",
        "print(\"train_accuracy_2: \", train_accuracy_2)\n",
        "print(\"test_accuracy_2: \", test_accuracy_2)"
      ],
      "execution_count": 26,
      "outputs": [
        {
          "output_type": "stream",
          "text": [
            "iteration: 10000\n",
            "iteration: 20000\n",
            "iteration: 30000\n",
            "iteration: 40000\n",
            "iteration: 50000\n",
            "iteration: 60000\n",
            "iteration: 70000\n",
            "iteration: 80000\n",
            "iteration: 90000\n",
            "iteration: 100000\n",
            "train_accuracy_2:  [0.09276666666666666, 0.10038333333333334, 0.207, 0.46248333333333336, 0.86685, 0.91775, 0.9395166666666667, 0.9535, 0.9625833333333333]\n",
            "test_accuracy_2:  [0.0969, 0.1031, 0.2066, 0.4607, 0.8692, 0.9154, 0.9393, 0.9523, 0.9585]\n"
          ],
          "name": "stdout"
        }
      ]
    },
    {
      "cell_type": "code",
      "metadata": {
        "id": "8nRZsFYh2SiU",
        "outputId": "49ad927d-64a4-4efc-ab22-f18519ddbc47"
      },
      "source": [
        "# plt.plot(iters, [0.7203, 0.86215, 0.9042666666666667, 0.9144666666666666, 0.9204333333333333, 0.9234833333333333, 0.9254], '--', label='0 layers - training')\n",
        "# plt.plot(iters, [0.7314, 0.8716, 0.9094, 0.9154, 0.9209, 0.9216, 0.9218], '-', label='0 layers - testing')\n",
        "# plt.plot(iters, [0.16626666666666667, 0.6699, 0.8962, 0.9207666666666666, 0.9423666666666667, 0.9549, 0.9628166666666667], '--', label='1 layers - training')\n",
        "# plt.plot(iters, [0.1688, 0.669, 0.9002, 0.924, 0.9409, 0.9524, 0.9586], '-', label='1 layers - testing')\n",
        "# plt.plot(iters, [0.10343333333333334, 0.19181666666666666, 0.4811666666666667, 0.8877666666666667, 0.9297333333333333, 0.9504833333333333, 0.9615166666666667], '--', label='2 layers - training')\n",
        "# plt.plot(iters, [0.111, 0.2035, 0.4816, 0.8875, 0.9292, 0.948, 0.9569], '-', label='2 layers - testing')\n",
        "\n",
        "plt.plot(iters, train_accuracy_0, '--', label='0 layers - training')\n",
        "plt.plot(iters, test_accuracy_0, '-', label='0 layers - testing')\n",
        "plt.plot(iters, train_accuracy_1, '--', label='1 layers - training')\n",
        "plt.plot(iters, test_accuracy_1, '-', label='1 layers - testing')\n",
        "plt.plot(iters, train_accuracy_2, '--', label='2 layers - training')\n",
        "plt.plot(iters, test_accuracy_2, '-', label='2 layers - testing')\n",
        "\n",
        "plt.xlabel('number of iterations')\n",
        "plt.ylabel('accuracy')\n",
        "plt.title(\"Effect of network depth on accuracy\")\n",
        "plt.legend()\n",
        "plt.ylim(0.25, 1.0)\n",
        "plt.show()"
      ],
      "execution_count": null,
      "outputs": [
        {
          "output_type": "display_data",
          "data": {
            "image/png": "[encoded data removed]",
            "text/plain": [
              "<Figure size 432x288 with 1 Axes>"
            ]
          },
          "metadata": {
            "tags": []
          }
        }
      ]
    },
    {
      "cell_type": "markdown",
      "metadata": {
        "id": "pambWX9glGRI"
      },
      "source": [
        "### Task 3.2:\n",
        "Take the last model above, the one with 2 hidden layers, and create two different copies of it in which the activations are now sigmoid and tanh. After training these two models compare their test accuracies with model having ReLU activations. Comment on the performances of these models: which one is better and why? Are certain activations better than others? If the results are not as you expected, what could be the reason?"
      ]
    },
    {
      "cell_type": "code",
      "metadata": {
        "id": "DfhmA9LW_t9H",
        "outputId": "958bbb5a-6dd6-48d3-f154-f58786dbc234"
      },
      "source": [
        "# MLP with 2 hidden layers having each having 128 units and logistic activations\n",
        "optimizer = MBSGD(max_iters=1e6, verbose=True, record_history=True) # train 1e6 overnight\n",
        "model = MLP(activation_fn=logistic, layers=2, M=[128, 128]).fit(MNIST_x_train_vec, MNIST_y_train, optimizer)\n",
        "params = optimizer.record_params\n",
        "iters = optimizer.record_iters\n",
        "train_accuracy_3 = []\n",
        "test_accuracy_3 = []\n",
        "\n",
        "for i in range(len(params)):\n",
        "    y_train = model.predict_wp(MNIST_x_train_vec, params[i])\n",
        "    y_train = np.argmax(y_train, axis=1)\n",
        "\n",
        "    y_test = model.predict_wp(MNIST_x_test_vec, params[i])\n",
        "    y_test = np.argmax(y_test, axis=1)\n",
        "\n",
        "    y_train_acc = evaluate_acc(y_train, MNIST_y_train_original)\n",
        "    train_accuracy_3.append(y_train_acc)\n",
        "\n",
        "    y_test_acc = evaluate_acc(y_test, MNIST_y_test)\n",
        "    test_accuracy_3.append(y_test_acc)\n",
        "\n",
        "print(\"train_accuracy_3: \", train_accuracy_3)\n",
        "print(\"test_accuracy_3: \", test_accuracy_3)"
      ],
      "execution_count": null,
      "outputs": [
        {
          "output_type": "stream",
          "text": [
            "iteration: 100000\n",
            "iteration: 200000\n",
            "iteration: 300000\n",
            "iteration: 400000\n",
            "iteration: 500000\n",
            "iteration: 600000\n",
            "iteration: 700000\n",
            "iteration: 800000\n",
            "iteration: 900000\n",
            "iteration: 1000000\n",
            "train_accuracy_3:  [0.09915, 0.09915, 0.11236666666666667, 0.11236666666666667, 0.11236666666666667, 0.1141, 0.29711666666666664, 0.5825166666666667, 0.7704833333333333, 0.9087, 0.9586666666666667, 0.97575, 0.98515, 0.9906666666666667]\n",
            "test_accuracy_3:  [0.1009, 0.1009, 0.1135, 0.1135, 0.1135, 0.1156, 0.2931, 0.5831, 0.7722, 0.9072, 0.9533, 0.9648, 0.969, 0.972]\n"
          ],
          "name": "stdout"
        }
      ]
    },
    {
      "cell_type": "code",
      "metadata": {
        "id": "P79fvQhxAH4Q",
        "outputId": "b52d3c33-0aaa-41c3-9973-39c4611af451"
      },
      "source": [
        "# MLP with 2 hidden layers having each having 128 units and tanh activations\n",
        "optimizer = MBSGD(max_iters=1e6, verbose=True, record_history=True) # train 1e6 overnight\n",
        "model = MLP(activation_fn=tanh, layers=2, M=[128, 128]).fit(MNIST_x_train_vec, MNIST_y_train, optimizer)\n",
        "params = optimizer.record_params\n",
        "iters = optimizer.record_iters\n",
        "train_accuracy_4 = []\n",
        "test_accuracy_4 = []\n",
        "\n",
        "for i in range(len(params)):\n",
        "    y_train = model.predict_wp(MNIST_x_train_vec, params[i])\n",
        "    y_train = np.argmax(y_train, axis=1)\n",
        "\n",
        "    y_test = model.predict_wp(MNIST_x_test_vec, params[i])\n",
        "    y_test = np.argmax(y_test, axis=1)\n",
        "\n",
        "    y_train_acc = evaluate_acc(y_train, MNIST_y_train_original)\n",
        "    train_accuracy_4.append(y_train_acc)\n",
        "\n",
        "    y_test_acc = evaluate_acc(y_test, MNIST_y_test)\n",
        "    test_accuracy_4.append(y_test_acc)\n",
        "\n",
        "print(\"train_accuracy_4: \", train_accuracy_4)\n",
        "print(\"test_accuracy_4: \", test_accuracy_4)"
      ],
      "execution_count": null,
      "outputs": [
        {
          "output_type": "stream",
          "text": [
            "iteration: 100000\n",
            "iteration: 200000\n",
            "iteration: 300000\n",
            "iteration: 400000\n",
            "iteration: 500000\n",
            "iteration: 600000\n",
            "iteration: 700000\n",
            "iteration: 800000\n",
            "iteration: 900000\n",
            "iteration: 1000000\n",
            "train_accuracy_4:  [0.04845, 0.06446666666666667, 0.43206666666666665, 0.7356, 0.8368833333333333, 0.8966166666666666, 0.9150833333333334, 0.92385, 0.9295166666666667, 0.9455833333333333, 0.9569, 0.9598666666666666, 0.9538166666666666, 0.9356666666666666]\n",
            "test_accuracy_4:  [0.0463, 0.0625, 0.4312, 0.7425, 0.8423, 0.8956, 0.9142, 0.9229, 0.9271, 0.937, 0.9429, 0.9418, 0.9409, 0.9298]\n"
          ],
          "name": "stdout"
        }
      ]
    },
    {
      "cell_type": "code",
      "metadata": {
        "id": "iUTPrXg3AhpN",
        "outputId": "6e363da9-1c8d-4097-f77b-b51d6695bef1"
      },
      "source": [
        "plt.plot(iters, train_accuracy_2, '--', label='ReLU - training')\n",
        "plt.plot(iters, test_accuracy_2, '-', label='ReLU - testing')\n",
        "plt.plot(iters, train_accuracy_3, '--', label='logistic - training')\n",
        "plt.plot(iters, test_accuracy_3, '-', label='logistic - testing')\n",
        "plt.plot(iters, train_accuracy_4, '--', label='tanh - training')\n",
        "plt.plot(iters, test_accuracy_4, '-', label='tanh - testing')\n",
        "\n",
        "plt.xlabel('number of iterations')\n",
        "plt.ylabel('accuracy')\n",
        "plt.title(\"Effect of activation function on accuracy\")\n",
        "plt.legend()\n",
        "plt.ylim(0.25, 1.0)\n",
        "plt.show()"
      ],
      "execution_count": null,
      "outputs": [
        {
          "output_type": "display_data",
          "data": {
            "image/png": "[encoded data removed]",
            "text/plain": [
              "<Figure size 432x288 with 1 Axes>"
            ]
          },
          "metadata": {
            "tags": []
          }
        }
      ]
    },
    {
      "cell_type": "markdown",
      "metadata": {
        "id": "UTIXwor0lIbA"
      },
      "source": [
        "### Task 3.3:\n",
        "Create an MLP with 2 hidden layers each having 128 units with ReLU activations as above. However, this time, add L2 regularization (weight decay) to the cost and train the MLP in this way. How does this affect the accuracy?"
      ]
    },
    {
      "cell_type": "code",
      "metadata": {
        "id": "8frXxB85FQZd",
        "outputId": "7ee2cf6f-0624-4028-c7b3-d0320184f60a"
      },
      "source": [
        "# MLP with 2 hidden layers having each having 128 units and ReLU activations\n",
        "# l2_reg = 0.001\n",
        "optimizer = MBSGD(max_iters=1e6, verbose=True, record_history=True) # train 1e6 overnight\n",
        "model = MLP(activation_fn=relu, layers=2, M=[128, 128], l2_reg = 0.001).fit(MNIST_x_train_vec, MNIST_y_train, optimizer)\n",
        "params = optimizer.record_params\n",
        "iters = optimizer.record_iters\n",
        "train_accuracy_5 = []\n",
        "test_accuracy_5 = []\n",
        "\n",
        "for i in range(len(params)):\n",
        "    y_train = model.predict_wp(MNIST_x_train_vec, params[i])\n",
        "    y_train = np.argmax(y_train, axis=1)\n",
        "\n",
        "    y_test = model.predict_wp(MNIST_x_test_vec, params[i])\n",
        "    y_test = np.argmax(y_test, axis=1)\n",
        "\n",
        "    y_train_acc = evaluate_acc(y_train, MNIST_y_train_original)\n",
        "    train_accuracy_5.append(y_train_acc)\n",
        "\n",
        "    y_test_acc = evaluate_acc(y_test, MNIST_y_test)\n",
        "    test_accuracy_5.append(y_test_acc)\n",
        "\n",
        "print(\"train_accuracy_5: \", train_accuracy_5)\n",
        "print(\"test_accuracy_5: \", test_accuracy_5)"
      ],
      "execution_count": null,
      "outputs": [
        {
          "output_type": "stream",
          "text": [
            "iteration: 100000\n",
            "iteration: 200000\n",
            "iteration: 300000\n",
            "iteration: 400000\n",
            "iteration: 500000\n",
            "iteration: 600000\n",
            "iteration: 700000\n",
            "iteration: 800000\n",
            "iteration: 900000\n",
            "iteration: 1000000\n",
            "train_accuracy_5:  [0.08675, 0.09205, 0.15856666666666666, 0.5175, 0.8598666666666667, 0.91495, 0.9376666666666666, 0.95235, 0.9608, 0.9811666666666666, 0.99415, 0.9976833333333334, 0.99885, 0.9992166666666666]\n",
            "test_accuracy_5:  [0.0857, 0.0914, 0.1579, 0.5155, 0.8625, 0.9135, 0.9365, 0.9497, 0.9588, 0.9719, 0.9788, 0.9802, 0.9799, 0.9804]\n"
          ],
          "name": "stdout"
        }
      ]
    },
    {
      "cell_type": "code",
      "metadata": {
        "id": "o1IZwWtUFiXr",
        "outputId": "737d56b3-97f1-4461-f849-9519758f0441"
      },
      "source": [
        "# MLP with 2 hidden layers having each having 128 units and ReLU activations\n",
        "# l2_reg = 0.01\n",
        "optimizer = MBSGD(max_iters=1e6, verbose=True, record_history=True) # train 1e6 overnight\n",
        "model = MLP(activation_fn=relu, layers=2, M=[128, 128], l2_reg = 0.01).fit(MNIST_x_train_vec, MNIST_y_train, optimizer)\n",
        "params = optimizer.record_params\n",
        "iters = optimizer.record_iters\n",
        "train_accuracy_6 = []\n",
        "test_accuracy_6 = []\n",
        "\n",
        "for i in range(len(params)):\n",
        "    y_train = model.predict_wp(MNIST_x_train_vec, params[i])\n",
        "    y_train = np.argmax(y_train, axis=1)\n",
        "\n",
        "    y_test = model.predict_wp(MNIST_x_test_vec, params[i])\n",
        "    y_test = np.argmax(y_test, axis=1)\n",
        "\n",
        "    y_train_acc = evaluate_acc(y_train, MNIST_y_train_original)\n",
        "    train_accuracy_6.append(y_train_acc)\n",
        "\n",
        "    y_test_acc = evaluate_acc(y_test, MNIST_y_test)\n",
        "    test_accuracy_6.append(y_test_acc)\n",
        "\n",
        "print(\"train_accuracy_6: \", train_accuracy_6)\n",
        "print(\"test_accuracy_6: \", test_accuracy_6)"
      ],
      "execution_count": null,
      "outputs": [
        {
          "output_type": "stream",
          "text": [
            "iteration: 100000\n",
            "iteration: 200000\n",
            "iteration: 300000\n",
            "iteration: 400000\n",
            "iteration: 500000\n",
            "iteration: 600000\n",
            "iteration: 700000\n",
            "iteration: 800000\n",
            "iteration: 900000\n",
            "iteration: 1000000\n",
            "train_accuracy_6:  [0.0583, 0.06403333333333333, 0.16816666666666666, 0.45231666666666664, 0.84545, 0.9073166666666667, 0.9291166666666667, 0.9408, 0.9476166666666667, 0.96295, 0.9707666666666667, 0.97265, 0.9739666666666666, 0.9747833333333333]\n",
            "test_accuracy_6:  [0.0551, 0.0613, 0.1559, 0.4556, 0.8483, 0.9069, 0.9272, 0.9383, 0.9463, 0.9615, 0.9669, 0.9682, 0.9692, 0.9699]\n"
          ],
          "name": "stdout"
        }
      ]
    },
    {
      "cell_type": "code",
      "metadata": {
        "id": "bt4cZwjKTOSV",
        "outputId": "dd109213-7a0c-4a2a-8b33-6e3675d70f88"
      },
      "source": [
        "# MLP with 2 hidden layers having each having 128 units and ReLU activations\n",
        "# l2_reg = 0.1\n",
        "optimizer = MBSGD(max_iters=1e6, verbose=True, record_history=True) # train 1e6 overnight\n",
        "model = MLP(activation_fn=relu, layers=2, M=[128, 128], l2_reg = 0.1).fit(MNIST_x_train_vec, MNIST_y_train, optimizer)\n",
        "params = optimizer.record_params\n",
        "iters = optimizer.record_iters\n",
        "train_accuracy_7 = []\n",
        "test_accuracy_7 = []\n",
        "\n",
        "for i in range(len(params)):\n",
        "    y_train = model.predict_wp(MNIST_x_train_vec, params[i])\n",
        "    y_train = np.argmax(y_train, axis=1)\n",
        "\n",
        "    y_test = model.predict_wp(MNIST_x_test_vec, params[i])\n",
        "    y_test = np.argmax(y_test, axis=1)\n",
        "\n",
        "    y_train_acc = evaluate_acc(y_train, MNIST_y_train_original)\n",
        "    train_accuracy_7.append(y_train_acc)\n",
        "\n",
        "    y_test_acc = evaluate_acc(y_test, MNIST_y_test)\n",
        "    test_accuracy_7.append(y_test_acc)\n",
        "\n",
        "print(\"train_accuracy_7: \", train_accuracy_7)\n",
        "print(\"test_accuracy_7: \", test_accuracy_7)"
      ],
      "execution_count": null,
      "outputs": [
        {
          "output_type": "stream",
          "text": [
            "iteration: 100000\n",
            "iteration: 200000\n",
            "iteration: 300000\n",
            "iteration: 400000\n",
            "iteration: 500000\n",
            "iteration: 600000\n",
            "iteration: 700000\n",
            "iteration: 800000\n",
            "iteration: 900000\n",
            "iteration: 1000000\n",
            "train_accuracy_7:  [0.08273333333333334, 0.0872, 0.1511, 0.30641666666666667, 0.17205, 0.40618333333333334, 0.39555, 0.3902833333333333, 0.6434, 0.8211, 0.8593666666666666, 0.8609166666666667, 0.8643166666666666, 0.8702]\n",
            "test_accuracy_7:  [0.0895, 0.0953, 0.1637, 0.313, 0.1787, 0.4075, 0.3942, 0.3923, 0.6459, 0.8227, 0.8573, 0.8587, 0.8615, 0.8691]\n"
          ],
          "name": "stdout"
        }
      ]
    },
    {
      "cell_type": "code",
      "metadata": {
        "id": "HUpY6y8rG1gr",
        "outputId": "a7e41c06-778a-4a2b-d4f9-073a54ccd2dd"
      },
      "source": [
        "plt.plot(iters, train_accuracy_2, '--', label='L2=0 - training')\n",
        "plt.plot(iters, test_accuracy_2, '-', label='L2=0 - testing')\n",
        "plt.plot(iters, train_accuracy_5, '--', label='L2=0.001 - training')\n",
        "plt.plot(iters, test_accuracy_5, '-', label='L2=0.001 - testing')\n",
        "plt.plot(iters, train_accuracy_6, '--', label='L2=0.01 - training')\n",
        "plt.plot(iters, test_accuracy_6, '-', label='L2=0.01 - testing')\n",
        "plt.plot(iters, train_accuracy_7, '--', label='L2=0.1 - training')\n",
        "plt.plot(iters, test_accuracy_7, '-', label='L2=0.1 - testing')\n",
        "\n",
        "plt.xlabel('number of iterations')\n",
        "plt.ylabel('accuracy')\n",
        "plt.title(\"Effect of L2 regularization on accuracy\")\n",
        "plt.legend()\n",
        "plt.ylim(0.25, 1.0)\n",
        "plt.show()"
      ],
      "execution_count": null,
      "outputs": [
        {
          "output_type": "display_data",
          "data": {
            "image/png": "[encoded data removed]",
            "text/plain": [
              "<Figure size 432x288 with 1 Axes>"
            ]
          },
          "metadata": {
            "tags": []
          }
        }
      ]
    },
    {
      "cell_type": "markdown",
      "metadata": {
        "id": "3m9W46V1lKAY"
      },
      "source": [
        "### Task 3.4:\n",
        "Create an MLP with 2 hidden layers each having 128 units with ReLU activations as above. However, this time, train it with unnormalized images. How does this affect the accuracy?"
      ]
    },
    {
      "cell_type": "code",
      "metadata": {
        "id": "629Uj6MxKwO5",
        "outputId": "2000650e-76be-4df6-b94f-0a439bc97256"
      },
      "source": [
        "# MLP with 2 hidden layers having each having 128 units and ReLU activations\n",
        "optimizer = MBSGD(max_iters=1e6, verbose=True, record_history=True) # train 1e6 overnight\n",
        "model = MLP(activation_fn=relu, layers=2, M=[128, 128]).fit(MNIST_x_train_vec_unnormalized, MNIST_y_train, optimizer)\n",
        "params = optimizer.record_params\n",
        "iters = optimizer.record_iters\n",
        "train_accuracy_8 = []\n",
        "test_accuracy_8 = []\n",
        "\n",
        "for i in range(len(params)):\n",
        "    y_train = model.predict_wp(MNIST_x_train_vec_unnormalized, params[i])\n",
        "    y_train = np.argmax(y_train, axis=1)\n",
        "\n",
        "    y_test = model.predict_wp(MNIST_x_test_vec_unnormalized, params[i])\n",
        "    y_test = np.argmax(y_test, axis=1)\n",
        "\n",
        "    y_train_acc = evaluate_acc(y_train, MNIST_y_train_original)\n",
        "    train_accuracy_8.append(y_train_acc)\n",
        "\n",
        "    y_test_acc = evaluate_acc(y_test, MNIST_y_test)\n",
        "    test_accuracy_8.append(y_test_acc)\n",
        "\n",
        "print(\"train_accuracy_8: \", train_accuracy_8)\n",
        "print(\"test_accuracy_8: \", test_accuracy_8)"
      ],
      "execution_count": null,
      "outputs": [
        {
          "output_type": "stream",
          "text": [
            "iteration: 100000\n",
            "iteration: 200000\n",
            "iteration: 300000\n",
            "iteration: 400000\n",
            "iteration: 500000\n",
            "iteration: 600000\n",
            "iteration: 700000\n",
            "iteration: 800000\n",
            "iteration: 900000\n",
            "iteration: 1000000\n",
            "train_accuracy_8:  [0.21588333333333334, 0.73175, 0.9108833333333334, 0.98345, 0.9954166666666666, 0.9998666666666667, 1.0, 1.0, 1.0, 1.0, 1.0, 1.0, 1.0, 1.0]\n",
            "test_accuracy_8:  [0.2215, 0.7411, 0.9167, 0.9737, 0.9767, 0.9764, 0.9767, 0.9771, 0.9773, 0.9779, 0.978, 0.9778, 0.978, 0.9781]\n"
          ],
          "name": "stdout"
        }
      ]
    },
    {
      "cell_type": "code",
      "metadata": {
        "id": "zwmzrZesL22Q",
        "outputId": "a70c2854-3f24-4f69-ae46-5b96846ccb91"
      },
      "source": [
        "plt.plot(iters, train_accuracy_2, '--', label='normalized - training')\n",
        "plt.plot(iters, test_accuracy_2, '-', label='normalized - testing')\n",
        "plt.plot(iters, train_accuracy_8, '--', label='unnormalized - training')\n",
        "plt.plot(iters, test_accuracy_8, '-', label='unnormalized - testing')\n",
        "\n",
        "plt.xlabel('number of iterations')\n",
        "plt.ylabel('accuracy')\n",
        "plt.title(\"Effect of normalization on accuracy\")\n",
        "plt.legend()\n",
        "plt.ylim(0.25, 1.0)\n",
        "plt.show()"
      ],
      "execution_count": null,
      "outputs": [
        {
          "output_type": "display_data",
          "data": {
            "image/png": "[encoded data removed]",
            "text/plain": [
              "<Figure size 432x288 with 1 Axes>"
            ]
          },
          "metadata": {
            "tags": []
          }
        }
      ]
    },
    {
      "cell_type": "markdown",
      "metadata": {
        "id": "ixw8tV01Dx6v"
      },
      "source": [
        "## Creativity\n",
        "The above experiments are the minimum requirements that you must complete; however, this project is open-ended. For example, you might investigate the width (number of units in the hidden layers) of the MLP on its test accuracy. We would also love to see possible the effect of different regularizations on the final performance. Another interesting thing to report might be training the MLP with $10^k, k \\in \\{0, 1, 2, 3, 4\\}$ images and plotting the test accuracy. You do not need to do all of these things, but you should demonstrate creativity, rigour, and an understanding of the course material in how you run your chosen experiments and how you report on them in your write-up."
      ]
    },
    {
      "cell_type": "markdown",
      "metadata": {
        "id": "fPPNwFOM0n9M"
      },
      "source": [
        "### Creativity 1:\n",
        "Investigate the effect of width (number of units in the hidden layers) on test accuracy."
      ]
    },
    {
      "cell_type": "code",
      "metadata": {
        "id": "j744CSFjUTCT",
        "outputId": "396ec2d4-d2d2-4cb3-c1b6-91f5ced542d5"
      },
      "source": [
        "# MLP with 2 hidden layers having each having 64 units and ReLU activations\n",
        "optimizer = MBSGD(max_iters=1e6, verbose=True, record_history=True) # train 1e6 overnight\n",
        "model = MLP(activation_fn=relu, layers=2, M=[64, 64]).fit(MNIST_x_train_vec, MNIST_y_train, optimizer)\n",
        "params = optimizer.record_params\n",
        "iters = optimizer.record_iters\n",
        "train_accuracy_9 = []\n",
        "test_accuracy_9 = []\n",
        "\n",
        "for i in range(len(params)):\n",
        "    y_train = model.predict_wp(MNIST_x_train_vec, params[i])\n",
        "    y_train = np.argmax(y_train, axis=1)\n",
        "\n",
        "    y_test = model.predict_wp(MNIST_x_test_vec, params[i])\n",
        "    y_test = np.argmax(y_test, axis=1)\n",
        "\n",
        "    y_train_acc = evaluate_acc(y_train, MNIST_y_train_original)\n",
        "    train_accuracy_9.append(y_train_acc)\n",
        "\n",
        "    y_test_acc = evaluate_acc(y_test, MNIST_y_test)\n",
        "    test_accuracy_9.append(y_test_acc)\n",
        "\n",
        "print(\"train_accuracy_9: \", train_accuracy_9)\n",
        "print(\"test_accuracy_9: \", test_accuracy_9)"
      ],
      "execution_count": null,
      "outputs": [
        {
          "output_type": "stream",
          "text": [
            "iteration: 100000\n",
            "iteration: 200000\n",
            "iteration: 300000\n",
            "iteration: 400000\n",
            "iteration: 500000\n",
            "iteration: 600000\n",
            "iteration: 700000\n",
            "iteration: 800000\n",
            "iteration: 900000\n",
            "iteration: 1000000\n",
            "train_accuracy_9:  [0.10765, 0.10995, 0.13915, 0.36196666666666666, 0.77385, 0.9007, 0.9265166666666667, 0.9420666666666667, 0.9523333333333334, 0.97785, 0.9940333333333333, 0.9990166666666667, 0.9998166666666667, 0.9999666666666667]\n",
            "test_accuracy_9:  [0.1079, 0.1107, 0.1398, 0.3574, 0.7819, 0.8987, 0.9227, 0.9375, 0.9492, 0.9683, 0.9729, 0.9746, 0.9741, 0.974]\n"
          ],
          "name": "stdout"
        }
      ]
    },
    {
      "cell_type": "code",
      "metadata": {
        "id": "YVg7k5yXVlje",
        "outputId": "f4b2b345-6fb5-4194-a5e7-01878f596933"
      },
      "source": [
        "# MLP with 2 hidden layers having each having 32 units and ReLU activations\n",
        "optimizer = MBSGD(max_iters=1e6, verbose=True, record_history=True) # train 1e6 overnight\n",
        "model = MLP(activation_fn=relu, layers=2, M=[32, 32]).fit(MNIST_x_train_vec, MNIST_y_train, optimizer)\n",
        "params = optimizer.record_params\n",
        "iters = optimizer.record_iters\n",
        "train_accuracy_10 = []\n",
        "test_accuracy_10 = []\n",
        "\n",
        "for i in range(len(params)):\n",
        "    y_train = model.predict_wp(MNIST_x_train_vec, params[i])\n",
        "    y_train = np.argmax(y_train, axis=1)\n",
        "\n",
        "    y_test = model.predict_wp(MNIST_x_test_vec, params[i])\n",
        "    y_test = np.argmax(y_test, axis=1)\n",
        "\n",
        "    y_train_acc = evaluate_acc(y_train, MNIST_y_train_original)\n",
        "    train_accuracy_10.append(y_train_acc)\n",
        "\n",
        "    y_test_acc = evaluate_acc(y_test, MNIST_y_test)\n",
        "    test_accuracy_10.append(y_test_acc)\n",
        "\n",
        "print(\"train_accuracy_10: \", train_accuracy_10)\n",
        "print(\"test_accuracy_10: \", test_accuracy_10)"
      ],
      "execution_count": null,
      "outputs": [
        {
          "output_type": "stream",
          "text": [
            "iteration: 100000\n",
            "iteration: 200000\n",
            "iteration: 300000\n",
            "iteration: 400000\n",
            "iteration: 500000\n",
            "iteration: 600000\n",
            "iteration: 700000\n",
            "iteration: 800000\n",
            "iteration: 900000\n",
            "iteration: 1000000\n",
            "train_accuracy_10:  [0.056666666666666664, 0.0577, 0.07276666666666666, 0.15303333333333333, 0.23011666666666666, 0.8597, 0.9017, 0.922, 0.9376, 0.9684333333333334, 0.9857166666666667, 0.9936166666666667, 0.9978333333333333, 0.9994166666666666]\n",
            "test_accuracy_10:  [0.0537, 0.0548, 0.0712, 0.1486, 0.2333, 0.8627, 0.8998, 0.9196, 0.9349, 0.9619, 0.9684, 0.9664, 0.9649, 0.9641]\n"
          ],
          "name": "stdout"
        }
      ]
    },
    {
      "cell_type": "code",
      "metadata": {
        "id": "zIZDb_KPUkyt",
        "outputId": "2820cb3d-1df2-45eb-a69d-16c025d76c2c"
      },
      "source": [
        "# MLP with 2 hidden layers having each having 16 units and ReLU activations\n",
        "optimizer = MBSGD(max_iters=1e6, verbose=True, record_history=True) # train 1e6 overnight\n",
        "model = MLP(activation_fn=relu, layers=2, M=[16, 16]).fit(MNIST_x_train_vec, MNIST_y_train, optimizer)\n",
        "params = optimizer.record_params\n",
        "iters = optimizer.record_iters\n",
        "train_accuracy_11 = []\n",
        "test_accuracy_11 = []\n",
        "\n",
        "for i in range(len(params)):\n",
        "    y_train = model.predict_wp(MNIST_x_train_vec, params[i])\n",
        "    y_train = np.argmax(y_train, axis=1)\n",
        "\n",
        "    y_test = model.predict_wp(MNIST_x_test_vec, params[i])\n",
        "    y_test = np.argmax(y_test, axis=1)\n",
        "\n",
        "    y_train_acc = evaluate_acc(y_train, MNIST_y_train_original)\n",
        "    train_accuracy_11.append(y_train_acc)\n",
        "\n",
        "    y_test_acc = evaluate_acc(y_test, MNIST_y_test)\n",
        "    test_accuracy_11.append(y_test_acc)\n",
        "\n",
        "print(\"train_accuracy_11: \", train_accuracy_11)\n",
        "print(\"test_accuracy_11: \", test_accuracy_11)"
      ],
      "execution_count": null,
      "outputs": [
        {
          "output_type": "stream",
          "text": [
            "iteration: 100000\n",
            "iteration: 200000\n",
            "iteration: 300000\n",
            "iteration: 400000\n",
            "iteration: 500000\n",
            "iteration: 600000\n",
            "iteration: 700000\n",
            "iteration: 800000\n",
            "iteration: 900000\n",
            "iteration: 1000000\n",
            "train_accuracy_11:  [0.08273333333333334, 0.08366666666666667, 0.09505, 0.19045, 0.20233333333333334, 0.6924333333333333, 0.87415, 0.9065666666666666, 0.92465, 0.9567, 0.9707166666666667, 0.9776, 0.9811333333333333, 0.9840833333333333]\n",
            "test_accuracy_11:  [0.0832, 0.0833, 0.0932, 0.189, 0.2029, 0.6977, 0.8757, 0.9069, 0.9215, 0.9495, 0.9552, 0.9557, 0.955, 0.953]\n"
          ],
          "name": "stdout"
        }
      ]
    },
    {
      "cell_type": "code",
      "metadata": {
        "id": "QAioxkrEW2ps",
        "outputId": "ac99c163-8164-4ab6-a94d-e59b83b39c88"
      },
      "source": [
        "plt.plot(iters, train_accuracy_2, '--', label='128 units - training')\n",
        "plt.plot(iters, test_accuracy_2, '-', label='128 units - testing')\n",
        "plt.plot(iters, train_accuracy_9, '--', label='64 units - training')\n",
        "plt.plot(iters, test_accuracy_9, '-', label='64 units - testing')\n",
        "plt.plot(iters, train_accuracy_10, '--', label='32 units - training')\n",
        "plt.plot(iters, test_accuracy_10, '-', label='32 units - testing')\n",
        "plt.plot(iters, train_accuracy_11, '--', label='16 units - training')\n",
        "plt.plot(iters, test_accuracy_11, '-', label='16 units - testing')\n",
        "\n",
        "plt.xlabel('number of iterations')\n",
        "plt.ylabel('accuracy')\n",
        "plt.title(\"Effect of width on accuracy\")\n",
        "plt.legend()\n",
        "plt.ylim(0.25, 1.0)\n",
        "plt.show()"
      ],
      "execution_count": null,
      "outputs": [
        {
          "output_type": "display_data",
          "data": {
            "image/png": "[encoded data removed]",
            "text/plain": [
              "<Figure size 432x288 with 1 Axes>"
            ]
          },
          "metadata": {
            "tags": []
          }
        }
      ]
    },
    {
      "cell_type": "markdown",
      "metadata": {
        "id": "c0mfW6OC1AEs"
      },
      "source": [
        "### Creativity 2:\n",
        "Train the MLP with $10^k, k \\in \\{0, 1, 2, 3\\}$ images and plot the test accuracy."
      ]
    },
    {
      "cell_type": "code",
      "metadata": {
        "colab": {
          "base_uri": "https://localhost:8080/"
        },
        "id": "_LlXDiu-Xy-Z",
        "outputId": "2cc0a493-5039-40ae-84a7-392fac492021"
      },
      "source": [
        "# MLP with 2 hidden layers having each having 128 units and ReLU activations\n",
        "# 10^0 images\n",
        "size = pow(10,0)\n",
        "optimizer = MBSGD(max_iters=1e5, verbose=True, record_history=True) # train 1e6 overnight\n",
        "model = MLP(activation_fn=relu, layers=2, M=[128, 128]).fit(MNIST_x_train_vec[:size], MNIST_y_train[:size], optimizer)\n",
        "params = optimizer.record_params\n",
        "iters = optimizer.record_iters\n",
        "train_accuracy_12 = []\n",
        "test_accuracy_12 = []\n",
        "\n",
        "for i in range(len(params)):\n",
        "    y_train = model.predict_wp(MNIST_x_train_vec, params[i])\n",
        "    y_train = np.argmax(y_train, axis=1)\n",
        "\n",
        "    y_test = model.predict_wp(MNIST_x_test_vec, params[i])\n",
        "    y_test = np.argmax(y_test, axis=1)\n",
        "\n",
        "    y_train_acc = evaluate_acc(y_train, MNIST_y_train_original)\n",
        "    train_accuracy_12.append(y_train_acc)\n",
        "\n",
        "    y_test_acc = evaluate_acc(y_test, MNIST_y_test)\n",
        "    test_accuracy_12.append(y_test_acc)\n",
        "\n",
        "print(\"train_accuracy_12: \", train_accuracy_12)\n",
        "print(\"test_accuracy_12: \", test_accuracy_12)"
      ],
      "execution_count": 11,
      "outputs": [
        {
          "output_type": "stream",
          "text": [
            "iteration: 10000\n",
            "iteration: 20000\n",
            "iteration: 30000\n",
            "iteration: 40000\n",
            "iteration: 50000\n",
            "iteration: 60000\n",
            "iteration: 70000\n",
            "iteration: 80000\n",
            "iteration: 90000\n",
            "iteration: 100000\n",
            "train_accuracy_12:  [0.1011, 0.09713333333333334, 0.09035, 0.09035, 0.09035, 0.09035, 0.09035, 0.09035, 0.09035]\n",
            "test_accuracy_12:  [0.0984, 0.0981, 0.0892, 0.0892, 0.0892, 0.0892, 0.0892, 0.0892, 0.0892]\n"
          ],
          "name": "stdout"
        }
      ]
    },
    {
      "cell_type": "code",
      "metadata": {
        "id": "DLTz7OHVXzZr",
        "colab": {
          "base_uri": "https://localhost:8080/"
        },
        "outputId": "d1fe174b-13c9-41d9-ea9e-38519547a974"
      },
      "source": [
        "# MLP with 2 hidden layers having each having 128 units and ReLU activations\n",
        "# 10^1 images\n",
        "size = pow(10,1)\n",
        "optimizer = MBSGD(max_iters=1e5, verbose=True, record_history=True) # train 1e6 overnight\n",
        "model = MLP(activation_fn=relu, layers=2, M=[128, 128]).fit(MNIST_x_train_vec[:size], MNIST_y_train[:size], optimizer)\n",
        "params = optimizer.record_params\n",
        "iters = optimizer.record_iters\n",
        "train_accuracy_13 = []\n",
        "test_accuracy_13 = []\n",
        "\n",
        "for i in range(len(params)):\n",
        "    y_train = model.predict_wp(MNIST_x_train_vec, params[i])\n",
        "    y_train = np.argmax(y_train, axis=1)\n",
        "\n",
        "    y_test = model.predict_wp(MNIST_x_test_vec, params[i])\n",
        "    y_test = np.argmax(y_test, axis=1)\n",
        "\n",
        "    y_train_acc = evaluate_acc(y_train, MNIST_y_train_original)\n",
        "    train_accuracy_13.append(y_train_acc)\n",
        "\n",
        "    y_test_acc = evaluate_acc(y_test, MNIST_y_test)\n",
        "    test_accuracy_13.append(y_test_acc)\n",
        "\n",
        "print(\"train_accuracy_13: \", train_accuracy_13)\n",
        "print(\"test_accuracy_13: \", test_accuracy_13)"
      ],
      "execution_count": 13,
      "outputs": [
        {
          "output_type": "stream",
          "text": [
            "iteration: 10000\n",
            "iteration: 20000\n",
            "iteration: 30000\n",
            "iteration: 40000\n",
            "iteration: 50000\n",
            "iteration: 60000\n",
            "iteration: 70000\n",
            "iteration: 80000\n",
            "iteration: 90000\n",
            "iteration: 100000\n",
            "train_accuracy_13:  [0.09918333333333333, 0.11448333333333334, 0.20648333333333332, 0.3892333333333333, 0.39358333333333334, 0.3959, 0.39705, 0.3978833333333333, 0.39815]\n",
            "test_accuracy_13:  [0.0991, 0.1176, 0.2057, 0.3895, 0.3938, 0.3958, 0.3968, 0.3974, 0.3979]\n"
          ],
          "name": "stdout"
        }
      ]
    },
    {
      "cell_type": "code",
      "metadata": {
        "id": "vsHpH0O5X0p7",
        "colab": {
          "base_uri": "https://localhost:8080/"
        },
        "outputId": "4346c7b7-3ea9-4a24-99e2-378acd74a292"
      },
      "source": [
        "# MLP with 2 hidden layers having each having 128 units and ReLU activations\n",
        "# 10^2 images\n",
        "size = pow(10,2)\n",
        "optimizer = MBSGD(max_iters=1e5, verbose=True, record_history=True) # train 1e6 overnight\n",
        "model = MLP(activation_fn=relu, layers=2, M=[128, 128]).fit(MNIST_x_train_vec[:size], MNIST_y_train[:size], optimizer)\n",
        "params = optimizer.record_params\n",
        "iters = optimizer.record_iters\n",
        "train_accuracy_14 = []\n",
        "test_accuracy_14 = []\n",
        "\n",
        "for i in range(len(params)):\n",
        "    y_train = model.predict_wp(MNIST_x_train_vec, params[i])\n",
        "    y_train = np.argmax(y_train, axis=1)\n",
        "\n",
        "    y_test = model.predict_wp(MNIST_x_test_vec, params[i])\n",
        "    y_test = np.argmax(y_test, axis=1)\n",
        "\n",
        "    y_train_acc = evaluate_acc(y_train, MNIST_y_train_original)\n",
        "    train_accuracy_14.append(y_train_acc)\n",
        "\n",
        "    y_test_acc = evaluate_acc(y_test, MNIST_y_test)\n",
        "    test_accuracy_14.append(y_test_acc)\n",
        "\n",
        "print(\"train_accuracy_14: \", train_accuracy_14)\n",
        "print(\"test_accuracy_14: \", test_accuracy_14)"
      ],
      "execution_count": 14,
      "outputs": [
        {
          "output_type": "stream",
          "text": [
            "iteration: 10000\n",
            "iteration: 20000\n",
            "iteration: 30000\n",
            "iteration: 40000\n",
            "iteration: 50000\n",
            "iteration: 60000\n",
            "iteration: 70000\n",
            "iteration: 80000\n",
            "iteration: 90000\n",
            "iteration: 100000\n",
            "train_accuracy_14:  [0.08318333333333333, 0.08908333333333333, 0.2477, 0.5749166666666666, 0.5918666666666667, 0.59435, 0.5950333333333333, 0.5949833333333333, 0.59485]\n",
            "test_accuracy_14:  [0.0849, 0.0901, 0.249, 0.5639, 0.5751, 0.5779, 0.5778, 0.5794, 0.581]\n"
          ],
          "name": "stdout"
        }
      ]
    },
    {
      "cell_type": "code",
      "metadata": {
        "id": "3kO4A2zkX0zS",
        "colab": {
          "base_uri": "https://localhost:8080/"
        },
        "outputId": "1226a88d-25c8-4640-fa5f-c35e631f02ff"
      },
      "source": [
        "# MLP with 2 hidden layers having each having 128 units and ReLU activations\n",
        "# 10^3 images\n",
        "size = pow(10,3)\n",
        "optimizer = MBSGD(max_iters=1e5, verbose=True, record_history=True) # train 1e6 overnight\n",
        "model = MLP(activation_fn=relu, layers=2, M=[128, 128]).fit(MNIST_x_train_vec[:size], MNIST_y_train[:size], optimizer)\n",
        "params = optimizer.record_params\n",
        "iters = optimizer.record_iters\n",
        "train_accuracy_15 = []\n",
        "test_accuracy_15 = []\n",
        "\n",
        "for i in range(len(params)):\n",
        "    y_train = model.predict_wp(MNIST_x_train_vec, params[i])\n",
        "    y_train = np.argmax(y_train, axis=1)\n",
        "\n",
        "    y_test = model.predict_wp(MNIST_x_test_vec, params[i])\n",
        "    y_test = np.argmax(y_test, axis=1)\n",
        "\n",
        "    y_train_acc = evaluate_acc(y_train, MNIST_y_train_original)\n",
        "    train_accuracy_15.append(y_train_acc)\n",
        "\n",
        "    y_test_acc = evaluate_acc(y_test, MNIST_y_test)\n",
        "    test_accuracy_15.append(y_test_acc)\n",
        "\n",
        "print(\"train_accuracy_15: \", train_accuracy_15)\n",
        "print(\"test_accuracy_15: \", test_accuracy_15)"
      ],
      "execution_count": 15,
      "outputs": [
        {
          "output_type": "stream",
          "text": [
            "iteration: 10000\n",
            "iteration: 20000\n",
            "iteration: 30000\n",
            "iteration: 40000\n",
            "iteration: 50000\n",
            "iteration: 60000\n",
            "iteration: 70000\n",
            "iteration: 80000\n",
            "iteration: 90000\n",
            "iteration: 100000\n",
            "train_accuracy_15:  [0.08568333333333333, 0.09395, 0.23496666666666666, 0.4752166666666667, 0.81485, 0.8379833333333333, 0.8399, 0.8406, 0.8413833333333334]\n",
            "test_accuracy_15:  [0.0922, 0.0989, 0.2379, 0.4729, 0.8167, 0.8385, 0.8402, 0.8416, 0.8419]\n"
          ],
          "name": "stdout"
        }
      ]
    },
    {
      "cell_type": "code",
      "metadata": {
        "colab": {
          "base_uri": "https://localhost:8080/",
          "height": 295
        },
        "id": "DDjyWDsmZpd2",
        "outputId": "982959c2-950c-4260-aa81-736b3576dd4d"
      },
      "source": [
        "plt.plot(iters, train_accuracy_12, '--', label='10^0 images - training')\n",
        "plt.plot(iters, test_accuracy_12, '-', label='10^0 images - testing')\n",
        "plt.plot(iters, train_accuracy_13, '--', label='10^1 images - training')\n",
        "plt.plot(iters, test_accuracy_13, '-', label='10^1 images - testing')\n",
        "plt.plot(iters, train_accuracy_14, '--', label='10^2 images - training')\n",
        "plt.plot(iters, test_accuracy_14, '-', label='10^2 images - testing')\n",
        "plt.plot(iters, train_accuracy_15, '--', label='10^3 images - training')\n",
        "plt.plot(iters, test_accuracy_15, '-', label='10^3 images - testing')\n",
        "\n",
        "plt.xlabel('number of iterations')\n",
        "plt.ylabel('accuracy')\n",
        "plt.title(\"Effect of training set size on accuracy\")\n",
        "plt.legend()\n",
        "plt.ylim(0.25, 1.0)\n",
        "plt.show()"
      ],
      "execution_count": 16,
      "outputs": [
        {
          "output_type": "display_data",
          "data": {
            "image/png": "[encoded data removed]",
            "text/plain": [
              "<Figure size 432x288 with 1 Axes>"
            ]
          },
          "metadata": {
            "tags": [],
            "needs_background": "light"
          }
        }
      ]
    },
    {
      "cell_type": "markdown",
      "metadata": {
        "id": "-tDGqaNvymLw"
      },
      "source": [
        "### Creativity 3:\n",
        "Implementing Adam Optimizer"
      ]
    },
    {
      "cell_type": "code",
      "metadata": {
        "id": "z3X8dQEtylP1"
      },
      "source": [
        "class Adam:\n",
        "    def __init__(self, learning_rate=0.001, beta1=0.9, beta2=0.99, eps=1e-8, batch_size=48, max_iters=1e4 ,verbose=False, record_history=False):\n",
        "      self.beta1=beta1\n",
        "      self.beta2=beta2\n",
        "      self.eps=eps\n",
        "      self.learning_rate = learning_rate\n",
        "      self.mean = 0\n",
        "      self.var = 0\n",
        "      self.batch_size = batch_size\n",
        "      self.max_iters=max_iters\n",
        "      self.verbose=verbose\n",
        "      self.record_history=record_history\n",
        "      if self.record_history:\n",
        "        self.record_iters = []\n",
        "        self.record_params = []\n",
        "\n",
        "    def get_minibatches(self, x, y, batch_size):\n",
        "        minibatches = []\n",
        "        x, y = shuffle(x,y)\n",
        "        for i in range(0, x.shape[0], batch_size):\n",
        "            x_batch = x[i:i+batch_size]\n",
        "            y_batch = y[i:i+batch_size]\n",
        "            minibatches.append((x_batch, y_batch))\n",
        "        return minibatches\n",
        "\n",
        "    def update(self, w, dw, t):\n",
        "      # momentum beta1\n",
        "      self.mean = np.multiply(self.beta1, self.mean) +  np.multiply(dw, (1-self.beta1))\n",
        "      # rms beta2\n",
        "      self.var = np.multiply(self.beta2, self.var) + np.multiply((1-self.beta2) , np.square(dw))\n",
        "\n",
        "      mean_corr = np.divide(self.mean, (1-self.beta1**t))\n",
        "      var_corr = np.divide(self.var , (1-self.beta2**t))\n",
        "\n",
        "      out = [None for _ in range(len(w))]\n",
        "      for i in range(len(w)):\n",
        "        u = w[i] - np.multiply(self.learning_rate, (np.divide( mean_corr[i], (np.sqrt(var_corr[i])+self.eps))))\n",
        "        out[i] = u\n",
        "      return out\n",
        "\n",
        "    def run(self, gradient_fn, x, y, params):\n",
        "        minibatches = self.get_minibatches(x,y,self.batch_size)\n",
        "        norms = np.array([np.inf])\n",
        "        params0 = params\n",
        "        t = 1\n",
        "        i = 0\n",
        "        adam_iters = [1, 10, 100, 1000, 10000, 20000, 40000, 60000, 80000, 100000, 200000, 400000, 600000, 800000, 1000000]\n",
        "        while np.any(norms > self.eps) and t < self.max_iters:\n",
        "            curr_x, curr_y = minibatches[i]\n",
        "            grad = gradient_fn(curr_x, curr_y, params)\n",
        "            params0 = params\n",
        "            params = self.update(params0, grad, t)\n",
        "            \n",
        "            \n",
        "            norms = np.array([np.linalg.norm(g) for g in grad])\n",
        "            if np.any(norms < self.eps):\n",
        "              print('convergenced reached at {} iters ', t)\n",
        "\n",
        "            # finished epoch when i == len(minibatches)\n",
        "            # shuffle minibatches again so that you always have different minibatches\n",
        "            if (t in adam_iters) and self.record_history:\n",
        "                print('appended {} iters ', t)\n",
        "                copy_params = copy.deepcopy(params)\n",
        "                self.record_params.append(copy_params)\n",
        "                self.record_iters.append(t)\n",
        "            t += 1\n",
        "            i += 1\n",
        "            if (i == len(minibatches)):\n",
        "                i = 0\n",
        "                minibatches = self.get_minibatches(x,y,self.batch_size)\n",
        "            if (t % (self.max_iters/10) == 0) and self.verbose:\n",
        "                print(\"iteration:\", t)\n",
        "          \n",
        "        return params"
      ],
      "execution_count": 37,
      "outputs": []
    },
    {
      "cell_type": "code",
      "metadata": {
        "id": "rFcIbDM24IOx",
        "colab": {
          "base_uri": "https://localhost:8080/"
        },
        "outputId": "6bd3c8bc-a211-4471-baf0-bb4717f0c568"
      },
      "source": [
        "import time\n",
        "\n",
        "# RUN ADAM\n",
        "for i in range(2, 4):\n",
        "  for depth in range(0,3):\n",
        "    adam = Adam(max_iters=(10**i), batch_size=128)\n",
        "    model = MLP(layers=depth, activation_fn=relu, M=[128,128]).fit(MNIST_x_train_vec, MNIST_y_train, adam)\n",
        "    y_pred = model.predict(MNIST_x_test_vec)\n",
        "    y_pred = np.argmax(y_pred, axis=1)\n",
        "    acc = evaluate_acc(y_pred, MNIST_y_test)\n",
        "    print(\"{} achieved with {} hidden layers and 1e{} iterations\".format(acc, depth, i))"
      ],
      "execution_count": 38,
      "outputs": [
        {
          "output_type": "stream",
          "text": [
            "0.8909 achieved with 0 hidden layers and 1e2 iterations\n"
          ],
          "name": "stdout"
        },
        {
          "output_type": "stream",
          "text": [
            "/usr/local/lib/python3.7/dist-packages/ipykernel_launcher.py:28: VisibleDeprecationWarning: Creating an ndarray from ragged nested sequences (which is a list-or-tuple of lists-or-tuples-or ndarrays with different lengths or shapes) is deprecated. If you meant to do this, you must specify 'dtype=object' when creating the ndarray\n",
            "/usr/local/lib/python3.7/dist-packages/ipykernel_launcher.py:30: VisibleDeprecationWarning: Creating an ndarray from ragged nested sequences (which is a list-or-tuple of lists-or-tuples-or ndarrays with different lengths or shapes) is deprecated. If you meant to do this, you must specify 'dtype=object' when creating the ndarray\n"
          ],
          "name": "stderr"
        },
        {
          "output_type": "stream",
          "text": [
            "0.9018 achieved with 1 hidden layers and 1e2 iterations\n",
            "0.8836 achieved with 2 hidden layers and 1e2 iterations\n",
            "0.9214 achieved with 0 hidden layers and 1e3 iterations\n",
            "0.9652 achieved with 1 hidden layers and 1e3 iterations\n",
            "0.9633 achieved with 2 hidden layers and 1e3 iterations\n"
          ],
          "name": "stdout"
        }
      ]
    },
    {
      "cell_type": "code",
      "metadata": {
        "colab": {
          "base_uri": "https://localhost:8080/"
        },
        "id": "ykODsYuCpj6f",
        "outputId": "cb4f05bc-9ad7-493f-8d3f-c74c761ba003"
      },
      "source": [
        "optimizer = Adam(learning_rate=0.001, max_iters=1e5, batch_size=96, verbose=False, eps=1e-8, record_history=True) \n",
        "\n",
        "# MLP with 2 hidden layers having each having 128 units and ReLU activations\n",
        "model = MLP(activation_fn=relu, layers=2, M=[128, 128]).fit(MNIST_x_train_vec, MNIST_y_train, optimizer)\n",
        "params = optimizer.record_params\n",
        "iters = optimizer.record_iters\n",
        "train_accuracy_adam = []\n",
        "test_accuracy_adam = []\n",
        "\n",
        "for i in range(len(params)):\n",
        "    y_train = model.predict_wp(MNIST_x_train_vec, params[i])\n",
        "    y_train = np.argmax(y_train, axis=1)\n",
        "\n",
        "    y_test = model.predict_wp(MNIST_x_test_vec, params[i])\n",
        "    y_test = np.argmax(y_test, axis=1)\n",
        "\n",
        "    y_train_acc = evaluate_acc(y_train, MNIST_y_train_original)\n",
        "    train_accuracy_adam.append(y_train_acc)\n",
        "\n",
        "    y_test_acc = evaluate_acc(y_test, MNIST_y_test)\n",
        "    test_accuracy_adam.append(y_test_acc)\n",
        "\n",
        "print(\"train_accuracy_adam: \", train_accuracy_adam)\n",
        "print(\"test_accuracy_adam: \", test_accuracy_adam)"
      ],
      "execution_count": 39,
      "outputs": [
        {
          "output_type": "stream",
          "text": [
            "/usr/local/lib/python3.7/dist-packages/ipykernel_launcher.py:28: VisibleDeprecationWarning: Creating an ndarray from ragged nested sequences (which is a list-or-tuple of lists-or-tuples-or ndarrays with different lengths or shapes) is deprecated. If you meant to do this, you must specify 'dtype=object' when creating the ndarray\n",
            "/usr/local/lib/python3.7/dist-packages/ipykernel_launcher.py:30: VisibleDeprecationWarning: Creating an ndarray from ragged nested sequences (which is a list-or-tuple of lists-or-tuples-or ndarrays with different lengths or shapes) is deprecated. If you meant to do this, you must specify 'dtype=object' when creating the ndarray\n"
          ],
          "name": "stderr"
        },
        {
          "output_type": "stream",
          "text": [
            "appended {} iters  1\n",
            "appended {} iters  10\n",
            "appended {} iters  100\n",
            "appended {} iters  1000\n",
            "appended {} iters  10000\n",
            "appended {} iters  20000\n",
            "convergenced reached at {} iters  36426\n",
            "train_accuracy_adam:  [0.2692833333333333, 0.48733333333333334, 0.8697333333333334, 0.9703, 0.9947166666666667, 0.9968833333333333]\n",
            "test_accuracy_adam:  [0.2766, 0.4912, 0.8691, 0.9643, 0.9767, 0.9785]\n"
          ],
          "name": "stdout"
        }
      ]
    },
    {
      "cell_type": "code",
      "metadata": {
        "colab": {
          "base_uri": "https://localhost:8080/",
          "height": 295
        },
        "id": "aYaAHwLZpmOa",
        "outputId": "0108d735-5392-44a2-d335-5baefd5974b0"
      },
      "source": [
        "graph_iters = [1, 10, 100, 1000, 10000, 20000, 40000, 60000, 80000, 100000, 200000, 400000, 600000, 800000, 1000000]\n",
        "graph_iters = graph_iters[:9]\n",
        "plt.plot(graph_iters[:6], train_accuracy_adam, '--', label='2 layers Adam - Training')\n",
        "plt.plot(graph_iters[:6], test_accuracy_adam, '-', label='2 layers Adam - Testing')\n",
        "plt.plot(graph_iters[:9], train_accuracy_2, '--', label='2 layers SGD - Training')\n",
        "plt.plot(graph_iters[:9], test_accuracy_2, '-', label='2 layers SGD - Testing')\n",
        "\n",
        "plt.xlabel('number of iterations')\n",
        "plt.ylabel('accuracy')\n",
        "plt.title(\"Adaptive Momentum vs MBSGD Optimizers: 2 Layer HNN\")\n",
        "plt.legend()\n",
        "plt.ylim(0.25, 1.0)\n",
        "plt.show()"
      ],
      "execution_count": 40,
      "outputs": [
        {
          "output_type": "display_data",
          "data": {
            "image/png": "[encoded data removed]",
            "text/plain": [
              "<Figure size 432x288 with 1 Axes>"
            ]
          },
          "metadata": {
            "tags": [],
            "needs_background": "light"
          }
        }
      ]
    },
    {
      "cell_type": "code",
      "metadata": {
        "colab": {
          "base_uri": "https://localhost:8080/"
        },
        "id": "uylI0crHY5Uq",
        "outputId": "6764a47a-785d-4a0d-f8e8-a3579a21cc87"
      },
      "source": [
        "optimizer = Adam(learning_rate=0.001, max_iters=1e5, batch_size=96, verbose=False, eps=1e-8, record_history=True) \n",
        "\n",
        "# 1 Layer Model\n",
        "model = MLP(activation_fn=relu, layers=1, M=[128, 128]).fit(MNIST_x_train_vec, MNIST_y_train, optimizer)\n",
        "params = optimizer.record_params\n",
        "iters = optimizer.record_iters\n",
        "train_accuracy_adam_1 = []\n",
        "test_accuracy_adam_1 = []\n",
        "\n",
        "for i in range(len(params)):\n",
        "    y_train = model.predict_wp(MNIST_x_train_vec, params[i])\n",
        "    y_train = np.argmax(y_train, axis=1)\n",
        "\n",
        "    y_test = model.predict_wp(MNIST_x_test_vec, params[i])\n",
        "    y_test = np.argmax(y_test, axis=1)\n",
        "\n",
        "    y_train_acc = evaluate_acc(y_train, MNIST_y_train_original)\n",
        "    train_accuracy_adam_1.append(y_train_acc)\n",
        "\n",
        "    y_test_acc = evaluate_acc(y_test, MNIST_y_test)\n",
        "    test_accuracy_adam_1.append(y_test_acc)\n",
        "\n",
        "print(\"train_accuracy_adam: \", train_accuracy_adam_1)\n",
        "print(\"test_accuracy_adam: \", test_accuracy_adam_1)"
      ],
      "execution_count": 43,
      "outputs": [
        {
          "output_type": "stream",
          "text": [
            "/usr/local/lib/python3.7/dist-packages/ipykernel_launcher.py:28: VisibleDeprecationWarning: Creating an ndarray from ragged nested sequences (which is a list-or-tuple of lists-or-tuples-or ndarrays with different lengths or shapes) is deprecated. If you meant to do this, you must specify 'dtype=object' when creating the ndarray\n",
            "/usr/local/lib/python3.7/dist-packages/ipykernel_launcher.py:30: VisibleDeprecationWarning: Creating an ndarray from ragged nested sequences (which is a list-or-tuple of lists-or-tuples-or ndarrays with different lengths or shapes) is deprecated. If you meant to do this, you must specify 'dtype=object' when creating the ndarray\n"
          ],
          "name": "stderr"
        },
        {
          "output_type": "stream",
          "text": [
            "appended {} iters  1\n",
            "appended {} iters  10\n",
            "appended {} iters  100\n",
            "appended {} iters  1000\n",
            "appended {} iters  10000\n",
            "appended {} iters  20000\n",
            "appended {} iters  40000\n",
            "convergenced reached at {} iters  49168\n",
            "train_accuracy_adam:  [0.34753333333333336, 0.6050666666666666, 0.8896666666666667, 0.9663666666666667, 0.9985833333333334, 0.9984666666666666, 0.9996333333333334]\n",
            "test_accuracy_adam:  [0.3541, 0.6253, 0.8922, 0.9657, 0.9777, 0.9765, 0.9782]\n"
          ],
          "name": "stdout"
        }
      ]
    },
    {
      "cell_type": "code",
      "metadata": {
        "colab": {
          "base_uri": "https://localhost:8080/",
          "height": 295
        },
        "id": "WbYnfEc8Y895",
        "outputId": "861f31c9-d273-4edf-c6d5-9ca1a3b4f045"
      },
      "source": [
        "graph_iters = [10, 100, 1000, 10000, 20000, 40000, 60000, 80000, 100000, 200000, 400000, 600000, 800000, 1000000]\n",
        "l = len(train_accuracy_adam_1)\n",
        "plt.plot(graph_iters[:l-1], train_accuracy_adam_1[1:], '--', label='1 layers Adam - Training')\n",
        "plt.plot(graph_iters[:l-1], test_accuracy_adam_1[1:], '-', label='1 layers Adam - Testing')\n",
        "plt.plot(graph_iters[:9], train_accuracy_1, '--', label='1 layers SGD - Training')\n",
        "plt.plot(graph_iters[:9], test_accuracy_1, '-', label='1 layers SGD - Testing')\n",
        "\n",
        "plt.xlabel('number of iterations')\n",
        "plt.ylabel('accuracy')\n",
        "plt.title(\"Adaptive Momentum vs MBSGD Optimizers: 1 Layer HNN\")\n",
        "plt.legend()\n",
        "plt.ylim(0.25, 1.0)\n",
        "plt.show()"
      ],
      "execution_count": 44,
      "outputs": [
        {
          "output_type": "display_data",
          "data": {
            "image/png": "[encoded data removed]",
            "text/plain": [
              "<Figure size 432x288 with 1 Axes>"
            ]
          },
          "metadata": {
            "tags": [],
            "needs_background": "light"
          }
        }
      ]
    },
    {
      "cell_type": "code",
      "metadata": {
        "colab": {
          "base_uri": "https://localhost:8080/"
        },
        "id": "Z1T35gzBY91N",
        "outputId": "4f8e9021-3036-4a77-f1a3-6d6173e53dfe"
      },
      "source": [
        "optimizer = Adam(learning_rate=0.001, max_iters=1e5, batch_size=96, verbose=False, eps=1e-8, record_history=True) \n",
        "\n",
        "# No Layer Model\n",
        "model = MLP(activation_fn=relu, layers=0, M=[128, 128]).fit(MNIST_x_train_vec, MNIST_y_train, optimizer)\n",
        "params = optimizer.record_params\n",
        "iters = optimizer.record_iters\n",
        "train_accuracy_adam_0 = []\n",
        "test_accuracy_adam_0 = []\n",
        "\n",
        "for i in range(len(params)):\n",
        "    y_train = model.predict_wp(MNIST_x_train_vec, params[i])\n",
        "    y_train = np.argmax(y_train, axis=1)\n",
        "\n",
        "    y_test = model.predict_wp(MNIST_x_test_vec, params[i])\n",
        "    y_test = np.argmax(y_test, axis=1)\n",
        "\n",
        "    y_train_acc = evaluate_acc(y_train, MNIST_y_train_original)\n",
        "    train_accuracy_adam_0.append(y_train_acc)\n",
        "\n",
        "    y_test_acc = evaluate_acc(y_test, MNIST_y_test)\n",
        "    test_accuracy_adam_0.append(y_test_acc)\n",
        "\n",
        "print(\"train_accuracy_adam: \", train_accuracy_adam_0)\n",
        "print(\"test_accuracy_adam: \", test_accuracy_adam_0)"
      ],
      "execution_count": 45,
      "outputs": [
        {
          "output_type": "stream",
          "text": [
            "appended {} iters  1\n",
            "appended {} iters  10\n",
            "appended {} iters  100\n",
            "appended {} iters  1000\n",
            "appended {} iters  10000\n",
            "appended {} iters  20000\n",
            "appended {} iters  40000\n",
            "appended {} iters  60000\n",
            "appended {} iters  80000\n",
            "train_accuracy_adam:  [0.25876666666666664, 0.7302833333333333, 0.8831, 0.91925, 0.9336833333333333, 0.9346166666666667, 0.9363166666666667, 0.93845, 0.9355833333333333]\n",
            "test_accuracy_adam:  [0.2554, 0.744, 0.8904, 0.92, 0.9251, 0.9235, 0.9217, 0.924, 0.9201]\n"
          ],
          "name": "stdout"
        }
      ]
    },
    {
      "cell_type": "code",
      "metadata": {
        "colab": {
          "base_uri": "https://localhost:8080/",
          "height": 295
        },
        "id": "dgsFLimbZBbg",
        "outputId": "03d71ae5-338b-4aaf-97d2-41c6cff1bf3f"
      },
      "source": [
        "l = len(train_accuracy_0)\n",
        "plt.plot(graph_iters[:l-1], train_accuracy_adam_0[1:], '--', label='0 layers Adam - Training')\n",
        "plt.plot(graph_iters[:l-1], test_accuracy_adam_0[1:], '-', label='0 layers Adam - Testing')\n",
        "plt.plot(graph_iters[:9], train_accuracy_0, '--', label='0 layers SGD - Training')\n",
        "plt.plot(graph_iters[:9], test_accuracy_0, '-', label='0 layers SGD - Testing')\n",
        "\n",
        "plt.xlabel('number of iterations')\n",
        "plt.ylabel('accuracy')\n",
        "plt.title(\"Adaptive Momentum vs MBSGD Optimizers: 0 Layer HNN\")\n",
        "plt.legend()\n",
        "plt.ylim(0.25, 1.0)\n",
        "plt.show()"
      ],
      "execution_count": 46,
      "outputs": [
        {
          "output_type": "display_data",
          "data": {
            "image/png": "[encoded data removed]",
            "text/plain": [
              "<Figure size 432x288 with 1 Axes>"
            ]
          },
          "metadata": {
            "tags": [],
            "needs_background": "light"
          }
        }
      ]
    },
    {
      "cell_type": "markdown",
      "metadata": {
        "id": "YmqFqKBgaFvF"
      },
      "source": [
        "### Creativity 4:\n",
        "Impact of learning rate on the accuracy performance"
      ]
    },
    {
      "cell_type": "code",
      "metadata": {
        "colab": {
          "base_uri": "https://localhost:8080/",
          "height": 907
        },
        "id": "oP_KTvpwaGLc",
        "outputId": "cd57c0e4-d353-4ae6-b820-50f509dd5058"
      },
      "source": [
        "# MLP with 2 hidden layers having each having 128 units and ReLU activations\n",
        "# learning_rate = 0.0001\n",
        "optimizer = MBSGD(learning_rate=0.0001, max_iters=1e5, verbose=True, record_history=True) # train 1e6 overnight\n",
        "model = MLP(activation_fn=relu, layers=2, M=[128, 128]).fit(MNIST_x_train_vec, MNIST_y_train, optimizer)\n",
        "params = optimizer.record_params\n",
        "iters = optimizer.record_iters\n",
        "train_accuracy_16 = []\n",
        "test_accuracy_16 = []\n",
        "\n",
        "for i in range(len(params)):\n",
        "    y_train = model.predict_wp(MNIST_x_train_vec, params[i])\n",
        "    y_train = np.argmax(y_train, axis=1)\n",
        "\n",
        "    y_test = model.predict_wp(MNIST_x_test_vec, params[i])\n",
        "    y_test = np.argmax(y_test, axis=1)\n",
        "\n",
        "    y_train_acc = evaluate_acc(y_train, MNIST_y_train_original)\n",
        "    train_accuracy_16.append(y_train_acc)\n",
        "\n",
        "    y_test_acc = evaluate_acc(y_test, MNIST_y_test)\n",
        "    test_accuracy_16.append(y_test_acc)\n",
        "\n",
        "print(\"train_accuracy_16: \", train_accuracy_16)\n",
        "print(\"test_accuracy_16: \", test_accuracy_16)\n",
        "\n",
        "# MLP with 2 hidden layers having each having 128 units and ReLU activations\n",
        "# learning_rate = 0.001\n",
        "optimizer = MBSGD(learning_rate=0.001, max_iters=1e5, verbose=True, record_history=True) # train 1e6 overnight\n",
        "model = MLP(activation_fn=relu, layers=2, M=[128, 128]).fit(MNIST_x_train_vec, MNIST_y_train, optimizer)\n",
        "params = optimizer.record_params\n",
        "iters = optimizer.record_iters\n",
        "train_accuracy_17 = []\n",
        "test_accuracy_17 = []\n",
        "\n",
        "for i in range(len(params)):\n",
        "    y_train = model.predict_wp(MNIST_x_train_vec, params[i])\n",
        "    y_train = np.argmax(y_train, axis=1)\n",
        "\n",
        "    y_test = model.predict_wp(MNIST_x_test_vec, params[i])\n",
        "    y_test = np.argmax(y_test, axis=1)\n",
        "\n",
        "    y_train_acc = evaluate_acc(y_train, MNIST_y_train_original)\n",
        "    train_accuracy_17.append(y_train_acc)\n",
        "\n",
        "    y_test_acc = evaluate_acc(y_test, MNIST_y_test)\n",
        "    test_accuracy_17.append(y_test_acc)\n",
        "\n",
        "print(\"train_accuracy_17: \", train_accuracy_17)\n",
        "print(\"test_accuracy_17: \", test_accuracy_17)\n",
        "\n",
        "# MLP with 2 hidden layers having each having 128 units and ReLU activations\n",
        "# learning_rate = 0.01\n",
        "optimizer = MBSGD(learning_rate=0.01, max_iters=1e5, verbose=True, record_history=True) # train 1e6 overnight\n",
        "model = MLP(activation_fn=relu, layers=2, M=[128, 128]).fit(MNIST_x_train_vec, MNIST_y_train, optimizer)\n",
        "params = optimizer.record_params\n",
        "iters = optimizer.record_iters\n",
        "train_accuracy_18 = []\n",
        "test_accuracy_18 = []\n",
        "\n",
        "for i in range(len(params)):\n",
        "    y_train = model.predict_wp(MNIST_x_train_vec, params[i])\n",
        "    y_train = np.argmax(y_train, axis=1)\n",
        "\n",
        "    y_test = model.predict_wp(MNIST_x_test_vec, params[i])\n",
        "    y_test = np.argmax(y_test, axis=1)\n",
        "\n",
        "    y_train_acc = evaluate_acc(y_train, MNIST_y_train_original)\n",
        "    train_accuracy_18.append(y_train_acc)\n",
        "\n",
        "    y_test_acc = evaluate_acc(y_test, MNIST_y_test)\n",
        "    test_accuracy_18.append(y_test_acc)\n",
        "\n",
        "print(\"train_accuracy_18: \", train_accuracy_18)\n",
        "print(\"test_accuracy_18: \", test_accuracy_18)\n",
        "\n",
        "plt.plot(iters, train_accuracy_16, '--', label='learning rate = 0.0001 - training')\n",
        "plt.plot(iters, test_accuracy_16, '-', label='learning rate = 0.0001 - testing')\n",
        "plt.plot(iters, train_accuracy_17, '--', label='learning rate = 0.001 - training')\n",
        "plt.plot(iters, test_accuracy_17, '-', label='learning rate = 0.001 - testing')\n",
        "plt.plot(iters, train_accuracy_18, '--', label='learning rate = 0.01 - training')\n",
        "plt.plot(iters, test_accuracy_18, '-', label='learning rate = 0.01 - testing')\n",
        "\n",
        "plt.xlabel('number of iterations')\n",
        "plt.ylabel('accuracy')\n",
        "plt.title(\"Effect of learning rate on accuracy\")\n",
        "plt.legend()\n",
        "plt.ylim(0.25, 1.0)\n",
        "plt.show()"
      ],
      "execution_count": 47,
      "outputs": [
        {
          "output_type": "stream",
          "text": [
            "iteration: 10000\n",
            "iteration: 20000\n",
            "iteration: 30000\n",
            "iteration: 40000\n",
            "iteration: 50000\n",
            "iteration: 60000\n",
            "iteration: 70000\n",
            "iteration: 80000\n",
            "iteration: 90000\n",
            "iteration: 100000\n",
            "train_accuracy_16:  [0.14215, 0.14296666666666666, 0.15253333333333333, 0.24986666666666665, 0.34346666666666664, 0.3966166666666667, 0.29985, 0.3192833333333333, 0.5579333333333333]\n",
            "test_accuracy_16:  [0.142, 0.143, 0.1534, 0.2505, 0.3434, 0.3917, 0.2975, 0.3236, 0.5631]\n",
            "iteration: 10000\n",
            "iteration: 20000\n",
            "iteration: 30000\n",
            "iteration: 40000\n",
            "iteration: 50000\n",
            "iteration: 60000\n",
            "iteration: 70000\n",
            "iteration: 80000\n",
            "iteration: 90000\n",
            "iteration: 100000\n",
            "train_accuracy_17:  [0.10841666666666666, 0.12146666666666667, 0.2394, 0.44565, 0.86055, 0.9169166666666667, 0.9394166666666667, 0.9525666666666667, 0.9618166666666667]\n",
            "test_accuracy_17:  [0.1172, 0.1297, 0.2454, 0.44, 0.8621, 0.9166, 0.9403, 0.9498, 0.9572]\n",
            "iteration: 10000\n",
            "iteration: 20000\n",
            "iteration: 30000\n",
            "iteration: 40000\n",
            "iteration: 50000\n",
            "iteration: 60000\n",
            "iteration: 70000\n",
            "iteration: 80000\n",
            "iteration: 90000\n",
            "iteration: 100000\n",
            "train_accuracy_18:  [0.10126666666666667, 0.24735, 0.4930333333333333, 0.9610166666666666, 0.9832166666666666, 0.9970666666666667, 0.9997, 0.9999666666666667, 0.9999833333333333]\n",
            "test_accuracy_18:  [0.0985, 0.2449, 0.4989, 0.957, 0.9731, 0.9786, 0.9782, 0.9791, 0.9792]\n"
          ],
          "name": "stdout"
        },
        {
          "output_type": "display_data",
          "data": {
            "image/png": "[encoded data removed]",
            "text/plain": [
              "<Figure size 432x288 with 1 Axes>"
            ]
          },
          "metadata": {
            "tags": [],
            "needs_background": "light"
          }
        }
      ]
    }
  ]
}